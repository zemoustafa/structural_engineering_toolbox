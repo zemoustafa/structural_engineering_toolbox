{
 "cells": [
  {
   "cell_type": "code",
   "execution_count": 1,
   "metadata": {},
   "outputs": [],
   "source": [
    "import pandas as pd\n",
    "import sys\n",
    "sys.path.append(r\"C:\\_Github\\structural_engineering_toolbox\")\n",
    "from modules import etabs_api, as3600_wall_design\n",
    "\n",
    "etabs = etabs_api.etabs_api()"
   ]
  },
  {
   "cell_type": "code",
   "execution_count": 2,
   "metadata": {},
   "outputs": [],
   "source": [
    "load_cases = ['G', 'Q', 'RSS', 'WLX', 'WLY']\n",
    "story_names = etabs.get_story_names()\n",
    "start_phz = 'GR'\n",
    "above_phz = 2\n",
    "phz_stories = as3600_wall_design.get_phz_stories(start_phz, above_phz, story_names)\n",
    "vcts = [300, 200]\n",
    "hcts = [300, 200]\n",
    "piers = etabs.get_piers(load_cases)"
   ]
  },
  {
   "cell_type": "code",
   "execution_count": 3,
   "metadata": {},
   "outputs": [],
   "source": [
    "designed_piers = as3600_wall_design.full_wall_design(\n",
    "    walls=piers,\n",
    "    phz_levels=phz_stories,\n",
    "    load_cases=load_cases,\n",
    "    vcts=vcts,\n",
    "    hcts=hcts,\n",
    "    story_names=story_names,\n",
    "    wall_type='In-situ',\n",
    "    mu_sp=2.6\n",
    ")"
   ]
  },
  {
   "cell_type": "code",
   "execution_count": 43,
   "metadata": {},
   "outputs": [],
   "source": [
    "def piers_as_walls_dataframe(walls:list[dict]) -> pd.DataFrame:\n",
    "    selected_keys = [\n",
    "            'pier_name',\n",
    "            'story_name',\n",
    "            'story_height',\n",
    "            'thickness_bot',\n",
    "            'width_bot',\n",
    "            'fc',\n",
    "            'G+0.3Q (MPa)',\n",
    "            'G+0.3Q+RS (C)(MPa)',\n",
    "            'G+0.3Q-RS (T)(MPa)',\n",
    "            'Axial Load Ratio',\n",
    "            'Slenderness Ratio',\n",
    "            'Rho crit.',\n",
    "            'Rho typ.',\n",
    "            'db Vert',\n",
    "            's Vert',\n",
    "            \"0.15f'c\",\n",
    "            \"0.2f'c\",\n",
    "            \"0.585f'c\",\n",
    "            'BE Width',\n",
    "            'Lig Dia',\n",
    "            'Lig Cts',\n",
    "            'EQ Shear',\n",
    "            'Vuc',\n",
    "            'Vus',\n",
    "            'phiVu',\n",
    "            'db Horiz',\n",
    "            's Horiz'\n",
    "            ]\n",
    "    \n",
    "    df = pd.DataFrame([{key: wall[key] for key in selected_keys} for wall in walls])\n",
    "\n",
    "    return df\n",
    "\n",
    "df = piers_as_walls_dataframe(designed_piers)"
   ]
  },
  {
   "cell_type": "code",
   "execution_count": 62,
   "metadata": {},
   "outputs": [
    {
     "ename": "TypeError",
     "evalue": "apply_style() missing 1 required positional argument: 'color_mapping'",
     "output_type": "error",
     "traceback": [
      "\u001b[1;31m---------------------------------------------------------------------------\u001b[0m",
      "\u001b[1;31mTypeError\u001b[0m                                 Traceback (most recent call last)",
      "Cell \u001b[1;32mIn[62], line 25\u001b[0m\n\u001b[0;32m     15\u001b[0m     \u001b[38;5;28;01mreturn\u001b[39;00m styled_df\n\u001b[0;32m     16\u001b[0m \u001b[38;5;66;03m# def highlight_cells(val, col, color_mapping):\u001b[39;00m\n\u001b[0;32m     17\u001b[0m \u001b[38;5;66;03m#     return f'background-color: {color_mapping.get(col, {}).get(val, \"white\")}'\u001b[39;00m\n\u001b[0;32m     18\u001b[0m \n\u001b[1;32m   (...)\u001b[0m\n\u001b[0;32m     22\u001b[0m \u001b[38;5;66;03m#         styled_df = styled_df.applymap(lambda x, col=col: highlight_cells(x, col, color_mapping), subset=[col])\u001b[39;00m\n\u001b[0;32m     23\u001b[0m \u001b[38;5;66;03m#     return styled_df\u001b[39;00m\n\u001b[1;32m---> 25\u001b[0m styled_df \u001b[38;5;241m=\u001b[39m \u001b[43mapply_style\u001b[49m\u001b[43m(\u001b[49m\u001b[43mdf\u001b[49m\u001b[43m,\u001b[49m\u001b[43m \u001b[49m\u001b[43mcolor_mapping\u001b[49m\u001b[43m)\u001b[49m\n\u001b[0;32m     26\u001b[0m styled_df\n",
      "\u001b[1;31mTypeError\u001b[0m: apply_style() missing 1 required positional argument: 'color_mapping'"
     ]
    }
   ],
   "source": [
    "color_mapping = {\n",
    "    'Axial Load Ratio': {\"<0.2, OK\": 'green', \"Increase f'c or wall thickness\": 'red'},\n",
    "    'Slenderness Ratio': {\"<20, OK\": 'green', \"Slender wall. Increase thickness\": 'red'}\n",
    "}\n",
    "\n",
    "def highlight_cells(val, col, color_mapping):\n",
    "    return f'background-color: {color_mapping.get(col, {}).get(val, \"white\")}'\n",
    "\n",
    "def apply_style(df, color_mapping):\n",
    "    styled_df = df.style\n",
    "    for col in ['Axial Load Ratio', 'Slenderness Ratio']:\n",
    "        styled_df = styled_df.applymap(lambda x, col=col: highlight_cells(x, col, color_mapping), subset=[col])\n",
    "    return styled_df\n",
    "\n",
    "styled_df = apply_style(df, color_mapping)\n",
    "styled_df"
   ]
  },
  {
   "cell_type": "code",
   "execution_count": null,
   "metadata": {},
   "outputs": [],
   "source": []
  }
 ],
 "metadata": {
  "kernelspec": {
   "display_name": "Python 3",
   "language": "python",
   "name": "python3"
  },
  "language_info": {
   "codemirror_mode": {
    "name": "ipython",
    "version": 3
   },
   "file_extension": ".py",
   "mimetype": "text/x-python",
   "name": "python",
   "nbconvert_exporter": "python",
   "pygments_lexer": "ipython3",
   "version": "3.11.8"
  }
 },
 "nbformat": 4,
 "nbformat_minor": 2
}

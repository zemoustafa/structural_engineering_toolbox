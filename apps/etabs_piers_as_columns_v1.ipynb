{
 "cells": [
  {
   "cell_type": "markdown",
   "metadata": {},
   "source": [
    "ETABS DESIGN PIERS AS COLUMNS\n",
    "\n",
    "Introduction:\n",
    "- Tool is to design walls as columns to AS3600:2018 Section 10 for ULS load combinations\n",
    "- Program will design the minimum bar size for the bar spacing selected in each direction\n",
    "- Program does not check minimum reinforcement, it only designs what works for strength\n",
    "- Detailing in accordance with AS3600:2018 is to be checked manually\n",
    "\n",
    "Assumptions:\n",
    "- ETABS model must be correct and run without errors\n",
    "- Piers will be straight, continuous runs of walls. No T or L shaped walls are permitted\n",
    "- Two walls meeting at a corner or junction should be assigned two separate pier labels\n",
    "- Mx is moment about the x axis (strong direction)\n",
    "- My is moment about the y axis (weak direction)\n",
    "- As ETABS outputs a max, min, top and bottom load, program takes the worst case M*, N* and V*\n",
    "\n",
    "Load combinations:\n",
    "- ETABS load combinations must be input as follows:\n",
    "- eq_env_1 -> Envelope of load combinations with unfactored earthquake load for flexural design\n",
    "- eq_env_2 -> Envelope of load combinations with factored earthquake load for shear design\n",
    "- wind_env -> Envelope of all ULS wind combinations\n",
    "- If designing non-ductile walls for earthquake actions, eq_env_1 and eq_env_2 will be the same"
   ]
  },
  {
   "cell_type": "code",
   "execution_count": null,
   "metadata": {},
   "outputs": [],
   "source": [
    "import sys\n",
    "sys.path.append('C:\\_Github\\structural_engineering_toolbox')\n",
    "from etabs_tools import etabs_api, etabs_design_v1\n",
    "from design_reports import design_reports\n",
    "\n",
    "# Connect to open ETABS model\n",
    "etabs_api = etabs_api.etabs_api()"
   ]
  },
  {
   "cell_type": "code",
   "execution_count": null,
   "metadata": {},
   "outputs": [],
   "source": [
    "# Input load combination names to assess\n",
    "eq_env_1 = '(88) RS ULS ENV' # earthquake envelope unfactored EQ for moment design\n",
    "eq_env_2 = '(88) RS ULS ENV SHEAR' # earthquake envelope factored EQ for amplified shear design\n",
    "wind_env = '(88) WIND ULS ENV' # wind envelope\n",
    "\n",
    "# Design parameters\n",
    "vertical_spacing = 200\n",
    "horizontal_spacing = 200\n",
    "design_both_axes = False"
   ]
  },
  {
   "cell_type": "code",
   "execution_count": null,
   "metadata": {},
   "outputs": [],
   "source": [
    "# Grab pier properties and forces from ETABS\n",
    "piers = etabs_api.get_piers(load_cases=[eq_env_1, eq_env_2, wind_env])"
   ]
  },
  {
   "cell_type": "code",
   "execution_count": 4,
   "metadata": {},
   "outputs": [
    {
     "ename": "KeyboardInterrupt",
     "evalue": "",
     "output_type": "error",
     "traceback": [
      "\u001b[1;31m---------------------------------------------------------------------------\u001b[0m",
      "\u001b[1;31mKeyboardInterrupt\u001b[0m                         Traceback (most recent call last)",
      "Cell \u001b[1;32mIn[4], line 2\u001b[0m\n\u001b[0;32m      1\u001b[0m \u001b[38;5;66;03m# Design all piers\u001b[39;00m\n\u001b[1;32m----> 2\u001b[0m designed_piers_df \u001b[38;5;241m=\u001b[39m \u001b[43metabs_design_v1\u001b[49m\u001b[38;5;241;43m.\u001b[39;49m\u001b[43mdesign_all_piers\u001b[49m\u001b[43m(\u001b[49m\n\u001b[0;32m      3\u001b[0m \u001b[43m    \u001b[49m\u001b[43mpiers\u001b[49m\u001b[38;5;241;43m=\u001b[39;49m\u001b[43mpiers\u001b[49m\u001b[43m,\u001b[49m\n\u001b[0;32m      4\u001b[0m \u001b[43m    \u001b[49m\u001b[43meq_env_1\u001b[49m\u001b[38;5;241;43m=\u001b[39;49m\u001b[43meq_env_1\u001b[49m\u001b[43m,\u001b[49m\n\u001b[0;32m      5\u001b[0m \u001b[43m    \u001b[49m\u001b[43meq_env_2\u001b[49m\u001b[38;5;241;43m=\u001b[39;49m\u001b[43meq_env_2\u001b[49m\u001b[43m,\u001b[49m\n\u001b[0;32m      6\u001b[0m \u001b[43m    \u001b[49m\u001b[43mwind_env\u001b[49m\u001b[38;5;241;43m=\u001b[39;49m\u001b[43mwind_env\u001b[49m\u001b[43m,\u001b[49m\n\u001b[0;32m      7\u001b[0m \u001b[43m    \u001b[49m\u001b[43mvertical_spacing\u001b[49m\u001b[38;5;241;43m=\u001b[39;49m\u001b[43mvertical_spacing\u001b[49m\u001b[43m,\u001b[49m\n\u001b[0;32m      8\u001b[0m \u001b[43m    \u001b[49m\u001b[43mhorizontal_spacing\u001b[49m\u001b[38;5;241;43m=\u001b[39;49m\u001b[43mhorizontal_spacing\u001b[49m\u001b[43m,\u001b[49m\n\u001b[0;32m      9\u001b[0m \u001b[43m    \u001b[49m\u001b[43mdesign_both_axes\u001b[49m\u001b[38;5;241;43m=\u001b[39;49m\u001b[43mdesign_both_axes\u001b[49m\n\u001b[0;32m     10\u001b[0m \u001b[43m)\u001b[49m\n\u001b[0;32m     12\u001b[0m \u001b[38;5;66;03m# Display table\u001b[39;00m\n\u001b[0;32m     13\u001b[0m designed_piers_df\n",
      "File \u001b[1;32mC:\\_Github\\structural_engineering_toolbox\\etabs_tools\\etabs_design_v1.py:225\u001b[0m, in \u001b[0;36mdesign_all_piers\u001b[1;34m(piers, eq_env_1, eq_env_2, wind_env, vertical_spacing, horizontal_spacing, design_both_axes)\u001b[0m\n\u001b[0;32m    223\u001b[0m \u001b[38;5;66;03m# Iterate through all piers and design them\u001b[39;00m\n\u001b[0;32m    224\u001b[0m \u001b[38;5;28;01mfor\u001b[39;00m pier \u001b[38;5;129;01min\u001b[39;00m piers:\n\u001b[1;32m--> 225\u001b[0m     designed_pier \u001b[38;5;241m=\u001b[39m \u001b[43mdesign_etabs_pier_as_column\u001b[49m\u001b[43m(\u001b[49m\n\u001b[0;32m    226\u001b[0m \u001b[43m        \u001b[49m\u001b[43mpier\u001b[49m\u001b[43m,\u001b[49m\u001b[43m \u001b[49m\n\u001b[0;32m    227\u001b[0m \u001b[43m        \u001b[49m\u001b[43meq_env_1\u001b[49m\u001b[43m,\u001b[49m\u001b[43m \u001b[49m\n\u001b[0;32m    228\u001b[0m \u001b[43m        \u001b[49m\u001b[43meq_env_2\u001b[49m\u001b[43m,\u001b[49m\u001b[43m \u001b[49m\n\u001b[0;32m    229\u001b[0m \u001b[43m        \u001b[49m\u001b[43mwind_env\u001b[49m\u001b[43m,\u001b[49m\u001b[43m \u001b[49m\n\u001b[0;32m    230\u001b[0m \u001b[43m        \u001b[49m\u001b[43mvertical_spacing\u001b[49m\u001b[43m,\u001b[49m\u001b[43m \u001b[49m\n\u001b[0;32m    231\u001b[0m \u001b[43m        \u001b[49m\u001b[43mhorizontal_spacing\u001b[49m\u001b[43m,\u001b[49m\n\u001b[0;32m    232\u001b[0m \u001b[43m        \u001b[49m\u001b[43mdesign_both_axes\u001b[49m\u001b[43m,\u001b[49m\n\u001b[0;32m    233\u001b[0m \u001b[43m        \u001b[49m\u001b[43m)\u001b[49m\n\u001b[0;32m    234\u001b[0m     designed_piers\u001b[38;5;241m.\u001b[39mappend(designed_pier)\n\u001b[0;32m    236\u001b[0m \u001b[38;5;66;03m# Create a dataframe to store the results\u001b[39;00m\n",
      "File \u001b[1;32mC:\\_Github\\structural_engineering_toolbox\\etabs_tools\\etabs_design_v1.py:192\u001b[0m, in \u001b[0;36mdesign_etabs_pier_as_column\u001b[1;34m(pier, eq_env_1, eq_env_2, wind_env, vertical_spacing, horizontal_spacing, design_both_axes)\u001b[0m\n\u001b[0;32m    190\u001b[0m \u001b[38;5;28;01mdef\u001b[39;00m \u001b[38;5;21mdesign_etabs_pier_as_column\u001b[39m(pier, eq_env_1, eq_env_2, wind_env, vertical_spacing, horizontal_spacing, design_both_axes):\n\u001b[0;32m    191\u001b[0m     designer \u001b[38;5;241m=\u001b[39m PierColumnDesigner(pier, eq_env_1, eq_env_2, wind_env, vertical_spacing, horizontal_spacing, design_both_axes)\n\u001b[1;32m--> 192\u001b[0m     \u001b[38;5;28;01mreturn\u001b[39;00m \u001b[43mdesigner\u001b[49m\u001b[38;5;241;43m.\u001b[39;49m\u001b[43mdesign_pier\u001b[49m\u001b[43m(\u001b[49m\u001b[43m)\u001b[49m\n",
      "File \u001b[1;32mC:\\_Github\\structural_engineering_toolbox\\etabs_tools\\etabs_design_v1.py:112\u001b[0m, in \u001b[0;36mPierColumnDesigner.design_pier\u001b[1;34m(self)\u001b[0m\n\u001b[0;32m    110\u001b[0m \u001b[38;5;28;01mfor\u001b[39;00m bar_size \u001b[38;5;129;01min\u001b[39;00m \u001b[38;5;28mself\u001b[39m\u001b[38;5;241m.\u001b[39mbar_sizes:\n\u001b[0;32m    111\u001b[0m     pier_section\u001b[38;5;241m.\u001b[39mv_bar_dia \u001b[38;5;241m=\u001b[39m bar_size\n\u001b[1;32m--> 112\u001b[0m     mi_results \u001b[38;5;241m=\u001b[39m \u001b[43mvertical_structure_v1\u001b[49m\u001b[38;5;241;43m.\u001b[39;49m\u001b[43mrectangular_column_moment_interaction\u001b[49m\u001b[43m(\u001b[49m\n\u001b[0;32m    113\u001b[0m \u001b[43m        \u001b[49m\u001b[43msection\u001b[49m\u001b[38;5;241;43m=\u001b[39;49m\u001b[43mpier_section\u001b[49m\u001b[43m,\u001b[49m\n\u001b[0;32m    114\u001b[0m \u001b[43m        \u001b[49m\u001b[43mdesign_both_axes\u001b[49m\u001b[38;5;241;43m=\u001b[39;49m\u001b[38;5;28;43mself\u001b[39;49m\u001b[38;5;241;43m.\u001b[39;49m\u001b[43mdesign_both_axes\u001b[49m\n\u001b[0;32m    115\u001b[0m \u001b[43m    \u001b[49m\u001b[43m)\u001b[49m\n\u001b[0;32m    117\u001b[0m     column_check_results \u001b[38;5;241m=\u001b[39m vertical_structure_v1\u001b[38;5;241m.\u001b[39mcheck_column_capacity(\n\u001b[0;32m    118\u001b[0m         section\u001b[38;5;241m=\u001b[39mpier_section,\n\u001b[0;32m    119\u001b[0m         loading\u001b[38;5;241m=\u001b[39mloading,\n\u001b[0;32m    120\u001b[0m         mi_results\u001b[38;5;241m=\u001b[39mmi_results,\n\u001b[0;32m    121\u001b[0m         )\n\u001b[0;32m    123\u001b[0m     \u001b[38;5;66;03m# Check if passes or fails\u001b[39;00m\n\u001b[0;32m    124\u001b[0m     \u001b[38;5;66;03m# First, check if design_both_axes is True\u001b[39;00m\n",
      "File \u001b[1;32mC:\\_Github\\structural_engineering_toolbox\\as3600\\vertical_structure_v1.py:459\u001b[0m, in \u001b[0;36mrectangular_column_moment_interaction\u001b[1;34m(section, design_both_axes)\u001b[0m\n\u001b[0;32m    456\u001b[0m conc_sec_x \u001b[38;5;241m=\u001b[39m create_concrete_section(section\u001b[38;5;241m.\u001b[39mb, section\u001b[38;5;241m.\u001b[39md, section\u001b[38;5;241m.\u001b[39mn_bars_x, section\u001b[38;5;241m.\u001b[39mn_bars_y)\n\u001b[0;32m    458\u001b[0m \u001b[38;5;66;03m# Create moment interaction diagram and convert to kN and kNm\u001b[39;00m\n\u001b[1;32m--> 459\u001b[0m f_mi_res_x, mi_res_x, _ \u001b[38;5;241m=\u001b[39m \u001b[43mget_moment_interaction_results\u001b[49m\u001b[43m(\u001b[49m\u001b[43mconc_sec_x\u001b[49m\u001b[43m)\u001b[49m\n\u001b[0;32m    460\u001b[0m f_n_x, f_m_x \u001b[38;5;241m=\u001b[39m process_results(f_mi_res_x) \u001b[38;5;66;03m# Convert units\u001b[39;00m\n\u001b[0;32m    462\u001b[0m \u001b[38;5;66;03m# Grab balance point\u001b[39;00m\n",
      "File \u001b[1;32mC:\\_Github\\structural_engineering_toolbox\\as3600\\vertical_structure_v1.py:446\u001b[0m, in \u001b[0;36mrectangular_column_moment_interaction.<locals>.get_moment_interaction_results\u001b[1;34m(conc_sec)\u001b[0m\n\u001b[0;32m    444\u001b[0m \u001b[38;5;28;01mdef\u001b[39;00m \u001b[38;5;21mget_moment_interaction_results\u001b[39m(conc_sec):\n\u001b[0;32m    445\u001b[0m     DEFAULT_DESIGN_CODE\u001b[38;5;241m.\u001b[39massign_concrete_section(concrete_section\u001b[38;5;241m=\u001b[39mconc_sec)\n\u001b[1;32m--> 446\u001b[0m     \u001b[38;5;28;01mreturn\u001b[39;00m \u001b[43mDEFAULT_DESIGN_CODE\u001b[49m\u001b[38;5;241;43m.\u001b[39;49m\u001b[43mmoment_interaction_diagram\u001b[49m\u001b[43m(\u001b[49m\u001b[43mprogress_bar\u001b[49m\u001b[38;5;241;43m=\u001b[39;49m\u001b[38;5;28;43;01mFalse\u001b[39;49;00m\u001b[43m,\u001b[49m\u001b[43m \u001b[49m\u001b[43mn_points\u001b[49m\u001b[38;5;241;43m=\u001b[39;49m\u001b[38;5;241;43m24\u001b[39;49m\u001b[43m,\u001b[49m\u001b[43m \u001b[49m\u001b[43mcontrol_points\u001b[49m\u001b[38;5;241;43m=\u001b[39;49m\u001b[43m[\u001b[49m\u001b[43m(\u001b[49m\u001b[38;5;124;43m\"\u001b[39;49m\u001b[38;5;124;43mfy\u001b[39;49m\u001b[38;5;124;43m\"\u001b[39;49m\u001b[43m,\u001b[49m\u001b[43m \u001b[49m\u001b[38;5;241;43m1.0\u001b[39;49m\u001b[43m)\u001b[49m\u001b[43m]\u001b[49m\u001b[43m)\u001b[49m\n",
      "File \u001b[1;32mc:\\Users\\zeyad.moustafa\\AppData\\Local\\Programs\\Python\\Python312\\Lib\\site-packages\\concreteproperties\\design_codes\\as3600.py:523\u001b[0m, in \u001b[0;36mAS3600.moment_interaction_diagram\u001b[1;34m(self, theta, limits, control_points, labels, n_points, n_spacing, phi_0, progress_bar)\u001b[0m\n\u001b[0;32m    520\u001b[0m \u001b[38;5;28;01mif\u001b[39;00m control_points \u001b[38;5;129;01mis\u001b[39;00m \u001b[38;5;28;01mNone\u001b[39;00m:\n\u001b[0;32m    521\u001b[0m     control_points \u001b[38;5;241m=\u001b[39m [(\u001b[38;5;124m\"\u001b[39m\u001b[38;5;124mfy\u001b[39m\u001b[38;5;124m\"\u001b[39m, \u001b[38;5;241m1.0\u001b[39m)]\n\u001b[1;32m--> 523\u001b[0m mi_res \u001b[38;5;241m=\u001b[39m \u001b[38;5;28;43mself\u001b[39;49m\u001b[38;5;241;43m.\u001b[39;49m\u001b[43mconcrete_section\u001b[49m\u001b[38;5;241;43m.\u001b[39;49m\u001b[43mmoment_interaction_diagram\u001b[49m\u001b[43m(\u001b[49m\n\u001b[0;32m    524\u001b[0m \u001b[43m    \u001b[49m\u001b[43mtheta\u001b[49m\u001b[38;5;241;43m=\u001b[39;49m\u001b[43mtheta\u001b[49m\u001b[43m,\u001b[49m\n\u001b[0;32m    525\u001b[0m \u001b[43m    \u001b[49m\u001b[43mlimits\u001b[49m\u001b[38;5;241;43m=\u001b[39;49m\u001b[43mlimits\u001b[49m\u001b[43m,\u001b[49m\n\u001b[0;32m    526\u001b[0m \u001b[43m    \u001b[49m\u001b[43mcontrol_points\u001b[49m\u001b[38;5;241;43m=\u001b[39;49m\u001b[43mcontrol_points\u001b[49m\u001b[43m,\u001b[49m\n\u001b[0;32m    527\u001b[0m \u001b[43m    \u001b[49m\u001b[43mlabels\u001b[49m\u001b[38;5;241;43m=\u001b[39;49m\u001b[43mlabels\u001b[49m\u001b[43m,\u001b[49m\n\u001b[0;32m    528\u001b[0m \u001b[43m    \u001b[49m\u001b[43mn_points\u001b[49m\u001b[38;5;241;43m=\u001b[39;49m\u001b[43mn_points\u001b[49m\u001b[43m,\u001b[49m\n\u001b[0;32m    529\u001b[0m \u001b[43m    \u001b[49m\u001b[43mn_spacing\u001b[49m\u001b[38;5;241;43m=\u001b[39;49m\u001b[43mn_spacing\u001b[49m\u001b[43m,\u001b[49m\n\u001b[0;32m    530\u001b[0m \u001b[43m    \u001b[49m\u001b[43mprogress_bar\u001b[49m\u001b[38;5;241;43m=\u001b[39;49m\u001b[43mprogress_bar\u001b[49m\u001b[43m,\u001b[49m\n\u001b[0;32m    531\u001b[0m \u001b[43m\u001b[49m\u001b[43m)\u001b[49m\n\u001b[0;32m    533\u001b[0m \u001b[38;5;66;03m# get theta\u001b[39;00m\n\u001b[0;32m    534\u001b[0m theta \u001b[38;5;241m=\u001b[39m mi_res\u001b[38;5;241m.\u001b[39mresults[\u001b[38;5;241m0\u001b[39m]\u001b[38;5;241m.\u001b[39mtheta\n",
      "File \u001b[1;32mc:\\Users\\zeyad.moustafa\\AppData\\Local\\Programs\\Python\\Python312\\Lib\\site-packages\\concreteproperties\\concrete_section.py:1355\u001b[0m, in \u001b[0;36mConcreteSection.moment_interaction_diagram\u001b[1;34m(self, theta, limits, control_points, labels, n_points, n_spacing, max_comp, max_comp_labels, progress_bar)\u001b[0m\n\u001b[0;32m   1353\u001b[0m         live\u001b[38;5;241m.\u001b[39mrefresh()\n\u001b[0;32m   1354\u001b[0m \u001b[38;5;28;01melse\u001b[39;00m:\n\u001b[1;32m-> 1355\u001b[0m     \u001b[43mmicurve\u001b[49m\u001b[43m(\u001b[49m\u001b[43m)\u001b[49m\n\u001b[0;32m   1357\u001b[0m \u001b[38;5;66;03m# cut diagram at max_comp\u001b[39;00m\n\u001b[0;32m   1358\u001b[0m \u001b[38;5;28;01mif\u001b[39;00m max_comp:\n\u001b[0;32m   1359\u001b[0m     \u001b[38;5;66;03m# check input - if value greater than maximum compression\u001b[39;00m\n",
      "File \u001b[1;32mc:\\Users\\zeyad.moustafa\\AppData\\Local\\Programs\\Python\\Python312\\Lib\\site-packages\\concreteproperties\\concrete_section.py:1295\u001b[0m, in \u001b[0;36mConcreteSection.moment_interaction_diagram.<locals>.micurve\u001b[1;34m(progress)\u001b[0m\n\u001b[0;32m   1290\u001b[0m         ult_res \u001b[38;5;241m=\u001b[39m \u001b[38;5;28mself\u001b[39m\u001b[38;5;241m.\u001b[39multimate_bending_capacity(\n\u001b[0;32m   1291\u001b[0m             theta\u001b[38;5;241m=\u001b[39mtheta, n\u001b[38;5;241m=\u001b[39manalysis_point\n\u001b[0;32m   1292\u001b[0m         )\n\u001b[0;32m   1293\u001b[0m \u001b[38;5;66;03m# if we have neutral axes\u001b[39;00m\n\u001b[0;32m   1294\u001b[0m \u001b[38;5;28;01melse\u001b[39;00m:\n\u001b[1;32m-> 1295\u001b[0m     ult_res \u001b[38;5;241m=\u001b[39m \u001b[38;5;28;43mself\u001b[39;49m\u001b[38;5;241;43m.\u001b[39;49m\u001b[43mcalculate_ultimate_section_actions\u001b[49m\u001b[43m(\u001b[49m\n\u001b[0;32m   1296\u001b[0m \u001b[43m        \u001b[49m\u001b[43md_n\u001b[49m\u001b[38;5;241;43m=\u001b[39;49m\u001b[43manalysis_point\u001b[49m\u001b[43m,\u001b[49m\n\u001b[0;32m   1297\u001b[0m \u001b[43m        \u001b[49m\u001b[43multimate_results\u001b[49m\u001b[38;5;241;43m=\u001b[39;49m\u001b[43mres\u001b[49m\u001b[38;5;241;43m.\u001b[39;49m\u001b[43mUltimateBendingResults\u001b[49m\u001b[43m(\u001b[49m\u001b[43mtheta\u001b[49m\u001b[38;5;241;43m=\u001b[39;49m\u001b[43mtheta\u001b[49m\u001b[43m)\u001b[49m\u001b[43m,\u001b[49m\n\u001b[0;32m   1298\u001b[0m \u001b[43m    \u001b[49m\u001b[43m)\u001b[49m\n\u001b[0;32m   1300\u001b[0m \u001b[38;5;66;03m# add labels for limits\u001b[39;00m\n\u001b[0;32m   1301\u001b[0m \u001b[38;5;28;01mif\u001b[39;00m labels:\n",
      "File \u001b[1;32mc:\\Users\\zeyad.moustafa\\AppData\\Local\\Programs\\Python\\Python312\\Lib\\site-packages\\concreteproperties\\concrete_section.py:1063\u001b[0m, in \u001b[0;36mConcreteSection.calculate_ultimate_section_actions\u001b[1;34m(self, d_n, ultimate_results)\u001b[0m\n\u001b[0;32m   1061\u001b[0m \u001b[38;5;28;01mfor\u001b[39;00m meshed_geom \u001b[38;5;129;01min\u001b[39;00m meshed_split_geoms:\n\u001b[0;32m   1062\u001b[0m     sec \u001b[38;5;241m=\u001b[39m AnalysisSection(geometry\u001b[38;5;241m=\u001b[39mmeshed_geom)\n\u001b[1;32m-> 1063\u001b[0m     n_sec, m_x_sec, m_y_sec \u001b[38;5;241m=\u001b[39m \u001b[43msec\u001b[49m\u001b[38;5;241;43m.\u001b[39;49m\u001b[43multimate_analysis\u001b[49m\u001b[43m(\u001b[49m\n\u001b[0;32m   1064\u001b[0m \u001b[43m        \u001b[49m\u001b[43mpoint_na\u001b[49m\u001b[38;5;241;43m=\u001b[39;49m\u001b[43mpoint_na\u001b[49m\u001b[43m,\u001b[49m\n\u001b[0;32m   1065\u001b[0m \u001b[43m        \u001b[49m\u001b[43md_n\u001b[49m\u001b[38;5;241;43m=\u001b[39;49m\u001b[43md_n\u001b[49m\u001b[43m,\u001b[49m\n\u001b[0;32m   1066\u001b[0m \u001b[43m        \u001b[49m\u001b[43mtheta\u001b[49m\u001b[38;5;241;43m=\u001b[39;49m\u001b[43multimate_results\u001b[49m\u001b[38;5;241;43m.\u001b[39;49m\u001b[43mtheta\u001b[49m\u001b[43m,\u001b[49m\n\u001b[0;32m   1067\u001b[0m \u001b[43m        \u001b[49m\u001b[43multimate_strain\u001b[49m\u001b[38;5;241;43m=\u001b[39;49m\u001b[38;5;28;43mself\u001b[39;49m\u001b[38;5;241;43m.\u001b[39;49m\u001b[43mgross_properties\u001b[49m\u001b[38;5;241;43m.\u001b[39;49m\u001b[43mconc_ultimate_strain\u001b[49m\u001b[43m,\u001b[49m\n\u001b[0;32m   1068\u001b[0m \u001b[43m        \u001b[49m\u001b[43mcentroid\u001b[49m\u001b[38;5;241;43m=\u001b[39;49m\u001b[38;5;28;43mself\u001b[39;49m\u001b[38;5;241;43m.\u001b[39;49m\u001b[43mmoment_centroid\u001b[49m\u001b[43m,\u001b[49m\n\u001b[0;32m   1069\u001b[0m \u001b[43m    \u001b[49m\u001b[43m)\u001b[49m\n\u001b[0;32m   1071\u001b[0m     n \u001b[38;5;241m+\u001b[39m\u001b[38;5;241m=\u001b[39m n_sec\n\u001b[0;32m   1072\u001b[0m     m_x \u001b[38;5;241m+\u001b[39m\u001b[38;5;241m=\u001b[39m m_x_sec\n",
      "File \u001b[1;32mc:\\Users\\zeyad.moustafa\\AppData\\Local\\Programs\\Python\\Python312\\Lib\\site-packages\\concreteproperties\\analysis_section.py:315\u001b[0m, in \u001b[0;36mAnalysisSection.ultimate_analysis\u001b[1;34m(self, point_na, d_n, theta, ultimate_strain, centroid)\u001b[0m\n\u001b[0;32m    312\u001b[0m m_y_sec \u001b[38;5;241m=\u001b[39m \u001b[38;5;241m0\u001b[39m\n\u001b[0;32m    314\u001b[0m \u001b[38;5;28;01mfor\u001b[39;00m el \u001b[38;5;129;01min\u001b[39;00m \u001b[38;5;28mself\u001b[39m\u001b[38;5;241m.\u001b[39melements:\n\u001b[1;32m--> 315\u001b[0m     el_n, el_m_x, el_m_y \u001b[38;5;241m=\u001b[39m \u001b[43mel\u001b[49m\u001b[38;5;241;43m.\u001b[39;49m\u001b[43mcalculate_ultimate_actions\u001b[49m\u001b[43m(\u001b[49m\n\u001b[0;32m    316\u001b[0m \u001b[43m        \u001b[49m\u001b[43mpoint_na\u001b[49m\u001b[38;5;241;43m=\u001b[39;49m\u001b[43mpoint_na\u001b[49m\u001b[43m,\u001b[49m\n\u001b[0;32m    317\u001b[0m \u001b[43m        \u001b[49m\u001b[43md_n\u001b[49m\u001b[38;5;241;43m=\u001b[39;49m\u001b[43md_n\u001b[49m\u001b[43m,\u001b[49m\n\u001b[0;32m    318\u001b[0m \u001b[43m        \u001b[49m\u001b[43mtheta\u001b[49m\u001b[38;5;241;43m=\u001b[39;49m\u001b[43mtheta\u001b[49m\u001b[43m,\u001b[49m\n\u001b[0;32m    319\u001b[0m \u001b[43m        \u001b[49m\u001b[43multimate_strain\u001b[49m\u001b[38;5;241;43m=\u001b[39;49m\u001b[43multimate_strain\u001b[49m\u001b[43m,\u001b[49m\n\u001b[0;32m    320\u001b[0m \u001b[43m        \u001b[49m\u001b[43mcentroid\u001b[49m\u001b[38;5;241;43m=\u001b[39;49m\u001b[43mcentroid\u001b[49m\u001b[43m,\u001b[49m\n\u001b[0;32m    321\u001b[0m \u001b[43m    \u001b[49m\u001b[43m)\u001b[49m\n\u001b[0;32m    323\u001b[0m     n_sec \u001b[38;5;241m+\u001b[39m\u001b[38;5;241m=\u001b[39m el_n\n\u001b[0;32m    324\u001b[0m     m_x_sec \u001b[38;5;241m+\u001b[39m\u001b[38;5;241m=\u001b[39m el_m_x\n",
      "File \u001b[1;32mc:\\Users\\zeyad.moustafa\\AppData\\Local\\Programs\\Python\\Python312\\Lib\\site-packages\\concreteproperties\\analysis_section.py:729\u001b[0m, in \u001b[0;36mTri3.calculate_ultimate_actions\u001b[1;34m(self, point_na, d_n, theta, ultimate_strain, centroid)\u001b[0m\n\u001b[0;32m    726\u001b[0m n_shape, j \u001b[38;5;241m=\u001b[39m utils\u001b[38;5;241m.\u001b[39mshape_function(coords\u001b[38;5;241m=\u001b[39m\u001b[38;5;28mself\u001b[39m\u001b[38;5;241m.\u001b[39mcoords, gauss_point\u001b[38;5;241m=\u001b[39mgp)\n\u001b[0;32m    728\u001b[0m \u001b[38;5;66;03m# get coordinates of the gauss point\u001b[39;00m\n\u001b[1;32m--> 729\u001b[0m x \u001b[38;5;241m=\u001b[39m \u001b[43mnp\u001b[49m\u001b[38;5;241;43m.\u001b[39;49m\u001b[43mdot\u001b[49m\u001b[43m(\u001b[49m\u001b[43mn_shape\u001b[49m\u001b[43m,\u001b[49m\u001b[43m \u001b[49m\u001b[43mnp\u001b[49m\u001b[38;5;241;43m.\u001b[39;49m\u001b[43mtranspose\u001b[49m\u001b[43m(\u001b[49m\u001b[38;5;28;43mself\u001b[39;49m\u001b[38;5;241;43m.\u001b[39;49m\u001b[43mcoords\u001b[49m\u001b[43m[\u001b[49m\u001b[38;5;241;43m0\u001b[39;49m\u001b[43m,\u001b[49m\u001b[43m \u001b[49m\u001b[43m:\u001b[49m\u001b[43m]\u001b[49m\u001b[43m)\u001b[49m\u001b[43m)\u001b[49m\n\u001b[0;32m    730\u001b[0m y \u001b[38;5;241m=\u001b[39m np\u001b[38;5;241m.\u001b[39mdot(n_shape, np\u001b[38;5;241m.\u001b[39mtranspose(\u001b[38;5;28mself\u001b[39m\u001b[38;5;241m.\u001b[39mcoords[\u001b[38;5;241m1\u001b[39m, :]))\n\u001b[0;32m    732\u001b[0m \u001b[38;5;66;03m# get strain at gauss point\u001b[39;00m\n",
      "\u001b[1;31mKeyboardInterrupt\u001b[0m: "
     ]
    }
   ],
   "source": [
    "# Design all piers\n",
    "designed_piers_df = etabs_design_v1.design_all_piers(\n",
    "    piers=piers,\n",
    "    eq_env_1=eq_env_1,\n",
    "    eq_env_2=eq_env_2,\n",
    "    wind_env=wind_env,\n",
    "    vertical_spacing=vertical_spacing,\n",
    "    horizontal_spacing=horizontal_spacing,\n",
    "    design_both_axes=design_both_axes\n",
    ")\n",
    "\n",
    "# Display table\n",
    "designed_piers_df"
   ]
  },
  {
   "cell_type": "code",
   "execution_count": null,
   "metadata": {},
   "outputs": [],
   "source": [
    "# Export to Excel\n",
    "design_reports.dataframe_to_xlsx(designed_piers_df)"
   ]
  }
 ],
 "metadata": {
  "kernelspec": {
   "display_name": "Python 3",
   "language": "python",
   "name": "python3"
  },
  "language_info": {
   "codemirror_mode": {
    "name": "ipython",
    "version": 3
   },
   "file_extension": ".py",
   "mimetype": "text/x-python",
   "name": "python",
   "nbconvert_exporter": "python",
   "pygments_lexer": "ipython3",
   "version": "3.12.8"
  }
 },
 "nbformat": 4,
 "nbformat_minor": 2
}

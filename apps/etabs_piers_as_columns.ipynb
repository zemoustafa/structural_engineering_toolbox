{
 "cells": [
  {
   "cell_type": "markdown",
   "metadata": {},
   "source": [
    "ETABS DESIGN PIERS AS COLUMNS"
   ]
  },
  {
   "cell_type": "markdown",
   "metadata": {},
   "source": [
    "Introduction:\n",
    "- Tool is to design walls as columns to AS3600:2018 Section 10 for ULS load combinations\n",
    "- ETABS model should be correct and run without errors\n",
    "- Pier labels should be assigned to walls manually\n",
    "- Piers assigned should be straight walls only, no T or L shaped walls are permitted\n",
    "- Two walls meeting at a corner or junction should be assigned two separate pier labels\n",
    "- Program will design the minimum bar size for the bar spacing selected in each direction\n",
    "- This may not necessarily comply with code minimum requirements. This is to be checked manually\n",
    "- X-X is defined as strong direction and Y-Y is to be the weak direction\n",
    "\n",
    "Load combinations:\n",
    "- ETABS load combinations must be set up as follows:\n",
    "- eq_env_1 -> Envelope of load combinations with unfactored earthquake load for flexural design\n",
    "- eq_env_2 -> Envelope of load combinations with factored earthquake load for shear design\n",
    "- wind_env -> Envelope of all ULS wind combinations\n",
    "- If designing non-ductile walls for earthquake actions, eq_env_1 and eq_env_2 will be the same\n",
    "    "
   ]
  },
  {
   "cell_type": "code",
   "execution_count": 1,
   "metadata": {},
   "outputs": [
    {
     "name": "stderr",
     "output_type": "stream",
     "text": [
      "<>:2: SyntaxWarning: invalid escape sequence '\\_'\n",
      "<>:2: SyntaxWarning: invalid escape sequence '\\_'\n",
      "C:\\Users\\zeyad.moustafa\\AppData\\Local\\Temp\\ipykernel_27916\\4107470149.py:2: SyntaxWarning: invalid escape sequence '\\_'\n",
      "  sys.path.append('C:\\_Github\\structural_engineering_toolbox')\n",
      "C:\\_Github\\structural_engineering_toolbox\\design_functions\\as3600_column_design.py:562: SyntaxWarning: invalid escape sequence '\\_'\n",
      "  sys.path.append('C:\\_Github\\structural_engineering_toolbox')\n"
     ]
    },
    {
     "name": "stdout",
     "output_type": "stream",
     "text": [
      "57923.23349223354 38084.80963508447 1876.8818689664506 42872.92305203835\n",
      "{'Pier': 'P01', 'Story': 'LEVEL 9', 'Lw (mm)': 8300.0, 'tw (mm)': 300.0, 'Hw (mm)': 3000.0, 'fc (MPa)': 50.0, 'P* Tension (kN)': 0, 'P* Compression (kN)': 513.3001608494015, 'M* Top X-X (kNm)': 780.6788416001749, 'M* Bot X-X (kNm)': 27.85962366821611, 'M* Top Y-Y (kNm)': 22.47114721024363, 'M* Bot Y-Y (kNm)': 7.329774940800955, 'V Bar Size': 12, 'Phi Mu X-X': 57923.23349223354, 'Phi Nu X-X': 38084.80963508447, 'Safety Factor X-X': 0.01347781873580745, 'Phi Mu Y-Y': 1876.8818689664506, 'Phi Nu Y-Y': 42872.92305203835, 'Safety Factor Y-Y': 0.011972595389084288, 'V* (kN)': 829.00849125358, 'H Bar Size': 12, 'Phi Vu': 4259.628113605688, 'Safety Factor Shear': 5.138220125061105}\n"
     ]
    }
   ],
   "source": [
    "import sys\n",
    "sys.path.append('C:\\_Github\\structural_engineering_toolbox')\n",
    "from etabs_tools import etabs_api\n",
    "from design_functions import as3600_column_design, as3600_wall_design\n",
    "import pandas as pd"
   ]
  },
  {
   "cell_type": "markdown",
   "metadata": {},
   "source": [
    "Define load combinations to be considered"
   ]
  },
  {
   "cell_type": "code",
   "execution_count": 2,
   "metadata": {},
   "outputs": [],
   "source": [
    "# INPUT\n",
    "\n",
    "# Select names of load combinations to design for\n",
    "eq_env_1 = '(88) RS ULS ENV' # earthquake envelope unfactored EQ for moment design\n",
    "eq_env_2 = '(88) RS ULS ENV SHEAR' # earthquake envelope factored EQ for amplified shear design\n",
    "wind_env = '(88) WIND ULS ENV' # wind envelope\n",
    "gravity_env = ' ' # gravity envelope\n",
    "\n",
    "load_cases = [eq_env_1, eq_env_2, wind_env]\n",
    "\n",
    "# Select spacing for vertical and horizontal bars\n",
    "vertical_spacing = 200\n",
    "horizontal_spacing = 200\n",
    "\n",
    "# Define bar sizes to design with\n",
    "bar_sizes = [12, 16, 20, 24, 28, 32, 36, 40]"
   ]
  },
  {
   "cell_type": "markdown",
   "metadata": {},
   "source": [
    "Create instance of ETABS API and Sap Model object"
   ]
  },
  {
   "cell_type": "code",
   "execution_count": 3,
   "metadata": {},
   "outputs": [],
   "source": [
    "etabs_api = etabs_api.etabs_api()\n",
    "sap_model = etabs_api.sap_model"
   ]
  },
  {
   "cell_type": "markdown",
   "metadata": {},
   "source": [
    "Get data from open ETABS model"
   ]
  },
  {
   "cell_type": "code",
   "execution_count": 4,
   "metadata": {},
   "outputs": [],
   "source": [
    "story_data = etabs_api.get_story_data()\n",
    "piers = etabs_api.get_piers(load_cases=load_cases)"
   ]
  },
  {
   "cell_type": "markdown",
   "metadata": {},
   "source": [
    "Design all piers as columns"
   ]
  },
  {
   "cell_type": "code",
   "execution_count": 7,
   "metadata": {},
   "outputs": [
    {
     "name": "stdout",
     "output_type": "stream",
     "text": [
      "57923.23349223354 38084.80963508447 1876.8818689664506 42872.92305203835\n"
     ]
    },
    {
     "ename": "KeyError",
     "evalue": "'(88) RS ULS ENV SHEAR Top Max'",
     "output_type": "error",
     "traceback": [
      "\u001b[1;31m---------------------------------------------------------------------------\u001b[0m",
      "\u001b[1;31mKeyError\u001b[0m                                  Traceback (most recent call last)",
      "Cell \u001b[1;32mIn[7], line 6\u001b[0m\n\u001b[0;32m      2\u001b[0m designed_piers \u001b[38;5;241m=\u001b[39m []\n\u001b[0;32m      5\u001b[0m \u001b[38;5;28;01mfor\u001b[39;00m pier \u001b[38;5;129;01min\u001b[39;00m piers:\n\u001b[1;32m----> 6\u001b[0m     designed_pier \u001b[38;5;241m=\u001b[39m \u001b[43mas3600_column_design\u001b[49m\u001b[38;5;241;43m.\u001b[39;49m\u001b[43mdesign_etabs_pier_as_column\u001b[49m\u001b[43m(\u001b[49m\u001b[43mpier\u001b[49m\u001b[43m,\u001b[49m\u001b[43m \u001b[49m\u001b[43meq_env_1\u001b[49m\u001b[43m,\u001b[49m\u001b[43m \u001b[49m\u001b[43meq_env_2\u001b[49m\u001b[43m,\u001b[49m\u001b[43m \u001b[49m\u001b[43mwind_env\u001b[49m\u001b[43m,\u001b[49m\u001b[43m \u001b[49m\u001b[43mbar_sizes\u001b[49m\u001b[43m,\u001b[49m\u001b[43m \u001b[49m\u001b[43mvertical_spacing\u001b[49m\u001b[43m,\u001b[49m\u001b[43m \u001b[49m\u001b[43mhorizontal_spacing\u001b[49m\u001b[43m)\u001b[49m\n\u001b[0;32m      7\u001b[0m     designed_piers\u001b[38;5;241m.\u001b[39mappend(designed_pier)\n\u001b[0;32m      9\u001b[0m \u001b[38;5;66;03m# Create a dataframe to store the results\u001b[39;00m\n",
      "File \u001b[1;32mC:\\_Github\\structural_engineering_toolbox\\design_functions\\as3600_column_design.py:396\u001b[0m, in \u001b[0;36mdesign_etabs_pier_as_column\u001b[1;34m(pier, eq_env_1, eq_env_2, wind_env, bar_sizes, vertical_spacing, horizontal_spacing)\u001b[0m\n\u001b[0;32m    392\u001b[0m fc \u001b[38;5;241m=\u001b[39m pier[\u001b[38;5;124m'\u001b[39m\u001b[38;5;124mfc\u001b[39m\u001b[38;5;124m'\u001b[39m] \u001b[38;5;66;03m# Concrete strength\u001b[39;00m\n\u001b[0;32m    394\u001b[0m \u001b[38;5;66;03m# Determine design shear force\u001b[39;00m\n\u001b[0;32m    395\u001b[0m design_v_star \u001b[38;5;241m=\u001b[39m \u001b[38;5;28mmax\u001b[39m(\n\u001b[1;32m--> 396\u001b[0m     \u001b[38;5;28mabs\u001b[39m(\u001b[43mpier\u001b[49m\u001b[43m[\u001b[49m\u001b[43meq_env_2\u001b[49m\u001b[43m \u001b[49m\u001b[38;5;241;43m+\u001b[39;49m\u001b[43m \u001b[49m\u001b[38;5;124;43m'\u001b[39;49m\u001b[38;5;124;43m Top Max\u001b[39;49m\u001b[38;5;124;43m'\u001b[39;49m\u001b[43m]\u001b[49m[\u001b[38;5;124m'\u001b[39m\u001b[38;5;124mv2\u001b[39m\u001b[38;5;124m'\u001b[39m]),\n\u001b[0;32m    397\u001b[0m     \u001b[38;5;28mabs\u001b[39m(pier[eq_env_2 \u001b[38;5;241m+\u001b[39m \u001b[38;5;124m'\u001b[39m\u001b[38;5;124m Bottom Max\u001b[39m\u001b[38;5;124m'\u001b[39m][\u001b[38;5;124m'\u001b[39m\u001b[38;5;124mv2\u001b[39m\u001b[38;5;124m'\u001b[39m]),\n\u001b[0;32m    398\u001b[0m     \u001b[38;5;28mabs\u001b[39m(pier[eq_env_2 \u001b[38;5;241m+\u001b[39m \u001b[38;5;124m'\u001b[39m\u001b[38;5;124m Top Min\u001b[39m\u001b[38;5;124m'\u001b[39m][\u001b[38;5;124m'\u001b[39m\u001b[38;5;124mv2\u001b[39m\u001b[38;5;124m'\u001b[39m]),\n\u001b[0;32m    399\u001b[0m     \u001b[38;5;28mabs\u001b[39m(pier[eq_env_2 \u001b[38;5;241m+\u001b[39m \u001b[38;5;124m'\u001b[39m\u001b[38;5;124m Bottom Min\u001b[39m\u001b[38;5;124m'\u001b[39m][\u001b[38;5;124m'\u001b[39m\u001b[38;5;124mv2\u001b[39m\u001b[38;5;124m'\u001b[39m]),\n\u001b[0;32m    400\u001b[0m     \u001b[38;5;28mabs\u001b[39m(pier[wind_env \u001b[38;5;241m+\u001b[39m \u001b[38;5;124m'\u001b[39m\u001b[38;5;124m Top Max\u001b[39m\u001b[38;5;124m'\u001b[39m][\u001b[38;5;124m'\u001b[39m\u001b[38;5;124mv2\u001b[39m\u001b[38;5;124m'\u001b[39m]),\n\u001b[0;32m    401\u001b[0m     \u001b[38;5;28mabs\u001b[39m(pier[wind_env \u001b[38;5;241m+\u001b[39m \u001b[38;5;124m'\u001b[39m\u001b[38;5;124m Bottom Max\u001b[39m\u001b[38;5;124m'\u001b[39m][\u001b[38;5;124m'\u001b[39m\u001b[38;5;124mv2\u001b[39m\u001b[38;5;124m'\u001b[39m]),\n\u001b[0;32m    402\u001b[0m     \u001b[38;5;28mabs\u001b[39m(pier[wind_env \u001b[38;5;241m+\u001b[39m \u001b[38;5;124m'\u001b[39m\u001b[38;5;124m Top Min\u001b[39m\u001b[38;5;124m'\u001b[39m][\u001b[38;5;124m'\u001b[39m\u001b[38;5;124mv2\u001b[39m\u001b[38;5;124m'\u001b[39m]),\n\u001b[0;32m    403\u001b[0m     \u001b[38;5;28mabs\u001b[39m(pier[wind_env \u001b[38;5;241m+\u001b[39m \u001b[38;5;124m'\u001b[39m\u001b[38;5;124m Bottom Min\u001b[39m\u001b[38;5;124m'\u001b[39m][\u001b[38;5;124m'\u001b[39m\u001b[38;5;124mv2\u001b[39m\u001b[38;5;124m'\u001b[39m])\n\u001b[0;32m    404\u001b[0m ) \u001b[38;5;241m/\u001b[39m \u001b[38;5;241m1000\u001b[39m\n\u001b[0;32m    406\u001b[0m \u001b[38;5;66;03m# Determine design moments in strong and weak directions and corresponding moments at the other end\u001b[39;00m\n\u001b[0;32m    407\u001b[0m design_moment_x_x \u001b[38;5;241m=\u001b[39m \u001b[38;5;28mmax\u001b[39m(\n\u001b[0;32m    408\u001b[0m     \u001b[38;5;28mabs\u001b[39m(pier[eq_env_1 \u001b[38;5;241m+\u001b[39m \u001b[38;5;124m'\u001b[39m\u001b[38;5;124m Top Max\u001b[39m\u001b[38;5;124m'\u001b[39m][\u001b[38;5;124m'\u001b[39m\u001b[38;5;124mm3\u001b[39m\u001b[38;5;124m'\u001b[39m]),\n\u001b[0;32m    409\u001b[0m     \u001b[38;5;28mabs\u001b[39m(pier[eq_env_1 \u001b[38;5;241m+\u001b[39m \u001b[38;5;124m'\u001b[39m\u001b[38;5;124m Bottom Max\u001b[39m\u001b[38;5;124m'\u001b[39m][\u001b[38;5;124m'\u001b[39m\u001b[38;5;124mm3\u001b[39m\u001b[38;5;124m'\u001b[39m]),\n\u001b[1;32m   (...)\u001b[0m\n\u001b[0;32m    415\u001b[0m     \u001b[38;5;28mabs\u001b[39m(pier[wind_env \u001b[38;5;241m+\u001b[39m \u001b[38;5;124m'\u001b[39m\u001b[38;5;124m Bottom Min\u001b[39m\u001b[38;5;124m'\u001b[39m][\u001b[38;5;124m'\u001b[39m\u001b[38;5;124mm3\u001b[39m\u001b[38;5;124m'\u001b[39m])\n\u001b[0;32m    416\u001b[0m )\n",
      "\u001b[1;31mKeyError\u001b[0m: '(88) RS ULS ENV SHEAR Top Max'"
     ]
    }
   ],
   "source": [
    "# Initialise list to store designed piers\n",
    "designed_piers = []\n",
    "\n",
    "\n",
    "for pier in piers:\n",
    "    designed_pier = as3600_column_design.design_etabs_pier_as_column(pier, eq_env_1, eq_env_2, wind_env, bar_sizes, vertical_spacing, horizontal_spacing)\n",
    "    designed_piers.append(designed_pier)\n",
    "\n",
    "# Create a dataframe to store the results\n",
    "df = pd.DataFrame(designed_piers)\n"
   ]
  }
 ],
 "metadata": {
  "kernelspec": {
   "display_name": "Python 3",
   "language": "python",
   "name": "python3"
  },
  "language_info": {
   "codemirror_mode": {
    "name": "ipython",
    "version": 3
   },
   "file_extension": ".py",
   "mimetype": "text/x-python",
   "name": "python",
   "nbconvert_exporter": "python",
   "pygments_lexer": "ipython3",
   "version": "3.12.8"
  }
 },
 "nbformat": 4,
 "nbformat_minor": 2
}

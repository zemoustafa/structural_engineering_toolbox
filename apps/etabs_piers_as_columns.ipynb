{
 "cells": [
  {
   "cell_type": "markdown",
   "metadata": {},
   "source": [
    "ETABS DESIGN PIERS AS COLUMNS"
   ]
  },
  {
   "cell_type": "markdown",
   "metadata": {},
   "source": [
    "Assumptions:\n",
    "- ETABS model should be correct and run without errors\n",
    "- User must determine and input ductility factor and number of levels in the plastic hinge zone\n",
    "- Program will design the minimum bar size and/or spacing for the section to work for shear and flexure\n",
    "- This may not necessarily comply with code minimum requirements. This is to be checked manually\n",
    "- Tool is to design walls for ULS load combinations\n",
    "- ETABS load combinations must be set up as follows:\n",
    "- eq_env_1 -> Envelope of load combinations with unfactored earthquake load for flexural design\n",
    "- eq_env_2 -> Envelope of load combinations with factored earthquake load for shear design\n",
    "- wind_env -> Envelope of all ULS wind combinations\n",
    "\n",
    "    "
   ]
  },
  {
   "cell_type": "code",
   "execution_count": 1,
   "metadata": {},
   "outputs": [
    {
     "name": "stderr",
     "output_type": "stream",
     "text": [
      "<>:2: SyntaxWarning: invalid escape sequence '\\_'\n",
      "<>:2: SyntaxWarning: invalid escape sequence '\\_'\n",
      "C:\\Users\\zeyad.moustafa\\AppData\\Local\\Temp\\ipykernel_31336\\3442906891.py:2: SyntaxWarning: invalid escape sequence '\\_'\n",
      "  sys.path.append('C:\\_Github\\structural_engineering_toolbox')\n"
     ]
    }
   ],
   "source": [
    "import sys\n",
    "sys.path.append('C:\\_Github\\structural_engineering_toolbox')\n",
    "from etabs_tools import etabs_api\n",
    "from design_functions import pier_design_as_column, as3600_wall_design\n",
    "import pandas as pd"
   ]
  },
  {
   "cell_type": "markdown",
   "metadata": {},
   "source": [
    "Define load combinations to be considered"
   ]
  },
  {
   "cell_type": "code",
   "execution_count": 2,
   "metadata": {},
   "outputs": [],
   "source": [
    "# INPUT\n",
    "\n",
    "# names of load cases\n",
    "\n",
    "eq_env_1 = '(88) RS ULS ENV' # earthquake envelope unfactored EQ for moment design\n",
    "eq_env_2 = '(88) RS ULS ENV SHEAR' # earthquake envelope factored EQ for amplified shear design\n",
    "wind_env = '(88) WIND ULS ENV' # wind envelope\n",
    "gravity_env = ' ' # gravity envelope\n",
    "\n",
    "g = '(0) G'\n",
    "q = '(0) Q'\n",
    "rs = '(1) Response Spectrum mu=2'\n",
    "\n",
    "load_cases = [eq_env_1, eq_env_2, wind_env]\n",
    "\n",
    "# assumed building ductility factor\n",
    "mu_sp = 2.6\n",
    "\n",
    "# number of levels within plastic hinge zone\n",
    "number_phz_levels = 3\n",
    "\n",
    "# set min and max bar dia and spacing for wall reinforcement\n",
    "v_bar_dia_min = 12\n",
    "v_bar_dia_max = 28\n",
    "v_bar_cts_min = 200\n",
    "v_bar_cts_max = 200\n",
    "\n",
    "h_bar_dia_min = 12\n",
    "h_bar_dia_max = 20\n",
    "h_bar_cts_min = 200\n",
    "h_bar_cts_max = 200"
   ]
  },
  {
   "cell_type": "markdown",
   "metadata": {},
   "source": [
    "Create instance of ETABS API and Sap Model object"
   ]
  },
  {
   "cell_type": "code",
   "execution_count": 3,
   "metadata": {},
   "outputs": [],
   "source": [
    "etabs_api = etabs_api.etabs_api()\n",
    "sap_model = etabs_api.sap_model"
   ]
  },
  {
   "cell_type": "markdown",
   "metadata": {},
   "source": [
    "Get data from open ETABS model"
   ]
  },
  {
   "cell_type": "code",
   "execution_count": 4,
   "metadata": {},
   "outputs": [],
   "source": [
    "story_data = etabs_api.get_story_data()\n",
    "piers = etabs_api.get_piers(load_cases=load_cases)\n",
    "pier_forces = etabs_api.get_pier_forces(load_cases=load_cases)"
   ]
  },
  {
   "cell_type": "markdown",
   "metadata": {},
   "source": [
    "Print as Dataframe"
   ]
  },
  {
   "cell_type": "code",
   "execution_count": 5,
   "metadata": {},
   "outputs": [],
   "source": [
    "piers_df = pd.DataFrame(piers)"
   ]
  },
  {
   "cell_type": "markdown",
   "metadata": {},
   "source": [
    "Design one pier at a time"
   ]
  },
  {
   "cell_type": "code",
   "execution_count": 7,
   "metadata": {},
   "outputs": [
    {
     "data": {
      "text/plain": [
       "{'Story Name': 'LEVEL 1',\n",
       " 'Pier Name': 'P01',\n",
       " 'Load Case': '(88) RS ULS ENV',\n",
       " 'Step Type': 'Max',\n",
       " 'Location': 'Bottom',\n",
       " 'p': 371269.8801652028,\n",
       " 'v2': 54685.367191293655,\n",
       " 'v3': 6543.749544842902,\n",
       " 't': 1434558.3552646325,\n",
       " 'm2': 4336674.876742011,\n",
       " 'm3': 122476646.57439846}"
      ]
     },
     "execution_count": 7,
     "metadata": {},
     "output_type": "execute_result"
    }
   ],
   "source": [
    "pier = piers[0]\n",
    "pier['(88) RS ULS ENV Bottom Max']"
   ]
  },
  {
   "cell_type": "markdown",
   "metadata": {},
   "source": [
    "Get levels within plastic hinge zone"
   ]
  },
  {
   "cell_type": "code",
   "execution_count": 7,
   "metadata": {},
   "outputs": [
    {
     "name": "stdout",
     "output_type": "stream",
     "text": [
      "['LEVEL 1', 'LEVEL 2', 'LEVEL 3', 'LEVEL 4']\n"
     ]
    }
   ],
   "source": [
    "story_data = etabs_api.get_story_data()\n",
    "story_names = etabs_api.get_story_names()\n",
    "\n",
    "phz_levels = as3600_wall_design.get_phz_stories(story_names[0], number_phz_levels, story_names)\n",
    "print(phz_levels)"
   ]
  },
  {
   "cell_type": "markdown",
   "metadata": {},
   "source": [
    "Is pier within PHZ or not"
   ]
  },
  {
   "cell_type": "code",
   "execution_count": 8,
   "metadata": {},
   "outputs": [
    {
     "name": "stdout",
     "output_type": "stream",
     "text": [
      "True\n"
     ]
    }
   ],
   "source": [
    "is_within_phz = as3600_wall_design.is_in_phz(pier['Story Name'], phz_levels)\n",
    "print(is_within_phz)"
   ]
  },
  {
   "cell_type": "markdown",
   "metadata": {},
   "source": [
    "Test shear force"
   ]
  },
  {
   "cell_type": "code",
   "execution_count": 9,
   "metadata": {},
   "outputs": [
    {
     "name": "stdout",
     "output_type": "stream",
     "text": [
      "P01\n",
      "-366.7\n",
      "-337.3\n"
     ]
    }
   ],
   "source": [
    "# shear forces top and bottom of section\n",
    "eq_env_shear_top = round( pier[eq_env_2 + ' Top']['v2'] / 1000, 1 )\n",
    "eq_env_shear_bot = round( pier[eq_env_2 + ' Bottom']['v2'] / 1000, 1 )\n",
    "\n",
    "print(pier['Pier Name'])\n",
    "print(eq_env_shear_top)\n",
    "print(eq_env_shear_bot)\n",
    "\n",
    "# if is_within_phz == True and mu_sp > 1.3:\n",
    "#     v_design_top = g_v2_top + "
   ]
  }
 ],
 "metadata": {
  "kernelspec": {
   "display_name": "Python 3",
   "language": "python",
   "name": "python3"
  },
  "language_info": {
   "codemirror_mode": {
    "name": "ipython",
    "version": 3
   },
   "file_extension": ".py",
   "mimetype": "text/x-python",
   "name": "python",
   "nbconvert_exporter": "python",
   "pygments_lexer": "ipython3",
   "version": "3.12.8"
  }
 },
 "nbformat": 4,
 "nbformat_minor": 2
}

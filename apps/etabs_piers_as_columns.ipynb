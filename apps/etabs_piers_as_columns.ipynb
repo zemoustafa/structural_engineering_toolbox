{
 "cells": [
  {
   "cell_type": "code",
   "execution_count": 1,
   "metadata": {},
   "outputs": [
    {
     "name": "stderr",
     "output_type": "stream",
     "text": [
      "<>:2: SyntaxWarning: invalid escape sequence '\\_'\n",
      "<>:2: SyntaxWarning: invalid escape sequence '\\_'\n",
      "C:\\Users\\zeyad.moustafa\\AppData\\Local\\Temp\\ipykernel_4960\\3451609873.py:2: SyntaxWarning: invalid escape sequence '\\_'\n",
      "  sys.path.append('C:\\_Github\\structural_engineering_toolbox')\n"
     ]
    }
   ],
   "source": [
    "import sys\n",
    "sys.path.append('C:\\_Github\\structural_engineering_toolbox')\n",
    "from etabs_tools import etabs_api\n",
    "from design_functions import as3600_wall_design\n",
    "import pandas as pd"
   ]
  },
  {
   "cell_type": "markdown",
   "metadata": {},
   "source": [
    "Define load combinations to be considered"
   ]
  },
  {
   "cell_type": "code",
   "execution_count": 2,
   "metadata": {},
   "outputs": [],
   "source": [
    "load_combos = '(7) G+0.6Q+RS'"
   ]
  },
  {
   "cell_type": "markdown",
   "metadata": {},
   "source": [
    "Create instance of ETABS api and Sap Model object"
   ]
  },
  {
   "cell_type": "code",
   "execution_count": 3,
   "metadata": {},
   "outputs": [],
   "source": [
    "etabs_api = etabs_api.etabs_api()\n",
    "sap_model = etabs_api.sap_model"
   ]
  },
  {
   "cell_type": "markdown",
   "metadata": {},
   "source": [
    "Get data from open ETABS model"
   ]
  },
  {
   "cell_type": "code",
   "execution_count": 4,
   "metadata": {},
   "outputs": [],
   "source": [
    "story_data = etabs_api.get_story_data()\n",
    "piers = etabs_api.get_piers(load_cases=load_combos)"
   ]
  },
  {
   "cell_type": "markdown",
   "metadata": {},
   "source": []
  },
  {
   "cell_type": "markdown",
   "metadata": {},
   "source": [
    "Get levels within plastic hinge zone"
   ]
  }
 ],
 "metadata": {
  "kernelspec": {
   "display_name": ".venv",
   "language": "python",
   "name": "python3"
  },
  "language_info": {
   "codemirror_mode": {
    "name": "ipython",
    "version": 3
   },
   "file_extension": ".py",
   "mimetype": "text/x-python",
   "name": "python",
   "nbconvert_exporter": "python",
   "pygments_lexer": "ipython3",
   "version": "3.13.0"
  }
 },
 "nbformat": 4,
 "nbformat_minor": 2
}

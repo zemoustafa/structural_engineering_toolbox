{
 "cells": [
  {
   "cell_type": "code",
   "execution_count": 1,
   "metadata": {},
   "outputs": [],
   "source": [
    "import handcalcs.render\n",
    "import forallpeople\n",
    "forallpeople.environment('structural', top_level=True)\n",
    "import plotly.graph_objects as go\n",
    "import math"
   ]
  },
  {
   "cell_type": "markdown",
   "metadata": {},
   "source": [
    "# Column transitions calculation"
   ]
  },
  {
   "cell_type": "markdown",
   "metadata": {},
   "source": [
    "### Column loads"
   ]
  },
  {
   "cell_type": "code",
   "execution_count": 2,
   "metadata": {},
   "outputs": [
    {
     "data": {
      "text/latex": [
       "\\[\n",
       "\\begin{aligned}\n",
       "G &= 5040 \\cdot \\mathrm{kN}  = 5040 \\cdot kN &= 5.040\\ \\mathrm{MN} \\; \\;\\textrm{(Dead load)}\n",
       "\\\\[10pt]\n",
       "Q &= 950 \\cdot \\mathrm{kN}  = 950 \\cdot kN &= 950.000\\ \\mathrm{kN} \\; \\;\\textrm{(Live load)}\n",
       "\\\\[10pt]\n",
       "N_{ult} &= 7.473\\ \\mathrm{MN} \\; \\;\\textrm{(Ultimate load)}\n",
       "\\end{aligned}\n",
       "\\]"
      ],
      "text/plain": [
       "<IPython.core.display.Latex object>"
      ]
     },
     "metadata": {},
     "output_type": "display_data"
    }
   ],
   "source": [
    "%%render\n",
    "G = 5040 * kN # Dead load\n",
    "Q = 950 * kN # Live load\n",
    "N_ult = (1.2 * G + 1.5 * Q) # Ultimate load"
   ]
  },
  {
   "cell_type": "markdown",
   "metadata": {},
   "source": [
    "### Column above properties"
   ]
  },
  {
   "cell_type": "code",
   "execution_count": 3,
   "metadata": {},
   "outputs": [
    {
     "data": {
      "text/latex": [
       "\\[\n",
       "\\begin{aligned}\n",
       "\\mathrm{DX}_{above} &= 350.000\\ \\mathrm{mm} \\; \\;\\textrm{(Width)}\n",
       " &\\mathrm{DY}_{above} &= 1.000\\ \\mathrm{m} \\; \\;\\textrm{(Depth)}\n",
       " &\\mathrm{fc}_{above} &= 50.000\\ \\mathrm{MPa} \\; \\;\\textrm{(Strength)}\n",
       "\\\\[10pt]\n",
       "\\end{aligned}\n",
       "\\]"
      ],
      "text/plain": [
       "<IPython.core.display.Latex object>"
      ]
     },
     "metadata": {},
     "output_type": "display_data"
    }
   ],
   "source": [
    "%%render params\n",
    "DX_above = 350 * mm # Width\n",
    "DY_above = 1000 * mm # Depth\n",
    "fc_above = 50 * MPa # Strength"
   ]
  },
  {
   "cell_type": "code",
   "execution_count": null,
   "metadata": {},
   "outputs": [],
   "source": []
  },
  {
   "cell_type": "markdown",
   "metadata": {},
   "source": [
    "### Column below properties"
   ]
  },
  {
   "cell_type": "code",
   "execution_count": 4,
   "metadata": {},
   "outputs": [
    {
     "data": {
      "text/latex": [
       "\\[\n",
       "\\begin{aligned}\n",
       "\\mathrm{DX}_{below} &= 1.000\\ \\mathrm{m} \\; \\;\\textrm{(Width)}\n",
       " &\\mathrm{DY}_{below} &= 350.000\\ \\mathrm{mm} \\; \\;\\textrm{(Depth)}\n",
       " &\\mathrm{fc}_{below} &= 50.000\\ \\mathrm{MPa} \\; \\;\\textrm{(Strength)}\n",
       "\\\\[10pt]\n",
       "\\end{aligned}\n",
       "\\]"
      ],
      "text/plain": [
       "<IPython.core.display.Latex object>"
      ]
     },
     "metadata": {},
     "output_type": "display_data"
    }
   ],
   "source": [
    "%%render params\n",
    "DX_below = 1000 * mm # Width\n",
    "DY_below = 350 * mm # Depth\n",
    "fc_below = 50 * MPa # Strength"
   ]
  },
  {
   "cell_type": "markdown",
   "metadata": {},
   "source": [
    "### Slab/beam properties"
   ]
  },
  {
   "cell_type": "code",
   "execution_count": 5,
   "metadata": {},
   "outputs": [
    {
     "data": {
      "text/latex": [
       "\\[\n",
       "\\begin{aligned}\n",
       "h &= 350.000\\ \\mathrm{mm} \\; \\;\\textrm{(Overall depth of joint)}\n",
       " &\\mathrm{fc}_{joint} &= 40.000\\ \\mathrm{MPa} \\; \\;\\textrm{(Joint concrete strength)}\n",
       "\\end{aligned}\n",
       "\\]"
      ],
      "text/plain": [
       "<IPython.core.display.Latex object>"
      ]
     },
     "metadata": {},
     "output_type": "display_data"
    }
   ],
   "source": [
    "%%render params\n",
    "h = 350 * mm # Overall depth of joint\n",
    "fc_joint = 40 * MPa # Joint concrete strength"
   ]
  },
  {
   "cell_type": "markdown",
   "metadata": {},
   "source": [
    "### Plot"
   ]
  },
  {
   "cell_type": "code",
   "execution_count": 6,
   "metadata": {},
   "outputs": [
    {
     "data": {
      "application/vnd.plotly.v1+json": {
       "config": {
        "plotlyServerURL": "https://plot.ly"
       },
       "data": [
        {
         "fill": "toself",
         "name": "Column above",
         "type": "scatter",
         "x": [
          -175.00000000000003,
          175.00000000000003,
          175.00000000000003,
          -175.00000000000003
         ],
         "y": [
          500,
          500,
          -500,
          -500
         ]
        },
        {
         "fill": "toself",
         "name": "Column below",
         "type": "scatter",
         "x": [
          -500,
          500,
          500,
          -500
         ],
         "y": [
          175.00000000000003,
          175.00000000000003,
          -175.00000000000003,
          -175.00000000000003
         ]
        }
       ],
       "layout": {
        "template": {
         "data": {
          "bar": [
           {
            "error_x": {
             "color": "#2a3f5f"
            },
            "error_y": {
             "color": "#2a3f5f"
            },
            "marker": {
             "line": {
              "color": "#E5ECF6",
              "width": 0.5
             },
             "pattern": {
              "fillmode": "overlay",
              "size": 10,
              "solidity": 0.2
             }
            },
            "type": "bar"
           }
          ],
          "barpolar": [
           {
            "marker": {
             "line": {
              "color": "#E5ECF6",
              "width": 0.5
             },
             "pattern": {
              "fillmode": "overlay",
              "size": 10,
              "solidity": 0.2
             }
            },
            "type": "barpolar"
           }
          ],
          "carpet": [
           {
            "aaxis": {
             "endlinecolor": "#2a3f5f",
             "gridcolor": "white",
             "linecolor": "white",
             "minorgridcolor": "white",
             "startlinecolor": "#2a3f5f"
            },
            "baxis": {
             "endlinecolor": "#2a3f5f",
             "gridcolor": "white",
             "linecolor": "white",
             "minorgridcolor": "white",
             "startlinecolor": "#2a3f5f"
            },
            "type": "carpet"
           }
          ],
          "choropleth": [
           {
            "colorbar": {
             "outlinewidth": 0,
             "ticks": ""
            },
            "type": "choropleth"
           }
          ],
          "contour": [
           {
            "colorbar": {
             "outlinewidth": 0,
             "ticks": ""
            },
            "colorscale": [
             [
              0,
              "#0d0887"
             ],
             [
              0.1111111111111111,
              "#46039f"
             ],
             [
              0.2222222222222222,
              "#7201a8"
             ],
             [
              0.3333333333333333,
              "#9c179e"
             ],
             [
              0.4444444444444444,
              "#bd3786"
             ],
             [
              0.5555555555555556,
              "#d8576b"
             ],
             [
              0.6666666666666666,
              "#ed7953"
             ],
             [
              0.7777777777777778,
              "#fb9f3a"
             ],
             [
              0.8888888888888888,
              "#fdca26"
             ],
             [
              1,
              "#f0f921"
             ]
            ],
            "type": "contour"
           }
          ],
          "contourcarpet": [
           {
            "colorbar": {
             "outlinewidth": 0,
             "ticks": ""
            },
            "type": "contourcarpet"
           }
          ],
          "heatmap": [
           {
            "colorbar": {
             "outlinewidth": 0,
             "ticks": ""
            },
            "colorscale": [
             [
              0,
              "#0d0887"
             ],
             [
              0.1111111111111111,
              "#46039f"
             ],
             [
              0.2222222222222222,
              "#7201a8"
             ],
             [
              0.3333333333333333,
              "#9c179e"
             ],
             [
              0.4444444444444444,
              "#bd3786"
             ],
             [
              0.5555555555555556,
              "#d8576b"
             ],
             [
              0.6666666666666666,
              "#ed7953"
             ],
             [
              0.7777777777777778,
              "#fb9f3a"
             ],
             [
              0.8888888888888888,
              "#fdca26"
             ],
             [
              1,
              "#f0f921"
             ]
            ],
            "type": "heatmap"
           }
          ],
          "heatmapgl": [
           {
            "colorbar": {
             "outlinewidth": 0,
             "ticks": ""
            },
            "colorscale": [
             [
              0,
              "#0d0887"
             ],
             [
              0.1111111111111111,
              "#46039f"
             ],
             [
              0.2222222222222222,
              "#7201a8"
             ],
             [
              0.3333333333333333,
              "#9c179e"
             ],
             [
              0.4444444444444444,
              "#bd3786"
             ],
             [
              0.5555555555555556,
              "#d8576b"
             ],
             [
              0.6666666666666666,
              "#ed7953"
             ],
             [
              0.7777777777777778,
              "#fb9f3a"
             ],
             [
              0.8888888888888888,
              "#fdca26"
             ],
             [
              1,
              "#f0f921"
             ]
            ],
            "type": "heatmapgl"
           }
          ],
          "histogram": [
           {
            "marker": {
             "pattern": {
              "fillmode": "overlay",
              "size": 10,
              "solidity": 0.2
             }
            },
            "type": "histogram"
           }
          ],
          "histogram2d": [
           {
            "colorbar": {
             "outlinewidth": 0,
             "ticks": ""
            },
            "colorscale": [
             [
              0,
              "#0d0887"
             ],
             [
              0.1111111111111111,
              "#46039f"
             ],
             [
              0.2222222222222222,
              "#7201a8"
             ],
             [
              0.3333333333333333,
              "#9c179e"
             ],
             [
              0.4444444444444444,
              "#bd3786"
             ],
             [
              0.5555555555555556,
              "#d8576b"
             ],
             [
              0.6666666666666666,
              "#ed7953"
             ],
             [
              0.7777777777777778,
              "#fb9f3a"
             ],
             [
              0.8888888888888888,
              "#fdca26"
             ],
             [
              1,
              "#f0f921"
             ]
            ],
            "type": "histogram2d"
           }
          ],
          "histogram2dcontour": [
           {
            "colorbar": {
             "outlinewidth": 0,
             "ticks": ""
            },
            "colorscale": [
             [
              0,
              "#0d0887"
             ],
             [
              0.1111111111111111,
              "#46039f"
             ],
             [
              0.2222222222222222,
              "#7201a8"
             ],
             [
              0.3333333333333333,
              "#9c179e"
             ],
             [
              0.4444444444444444,
              "#bd3786"
             ],
             [
              0.5555555555555556,
              "#d8576b"
             ],
             [
              0.6666666666666666,
              "#ed7953"
             ],
             [
              0.7777777777777778,
              "#fb9f3a"
             ],
             [
              0.8888888888888888,
              "#fdca26"
             ],
             [
              1,
              "#f0f921"
             ]
            ],
            "type": "histogram2dcontour"
           }
          ],
          "mesh3d": [
           {
            "colorbar": {
             "outlinewidth": 0,
             "ticks": ""
            },
            "type": "mesh3d"
           }
          ],
          "parcoords": [
           {
            "line": {
             "colorbar": {
              "outlinewidth": 0,
              "ticks": ""
             }
            },
            "type": "parcoords"
           }
          ],
          "pie": [
           {
            "automargin": true,
            "type": "pie"
           }
          ],
          "scatter": [
           {
            "fillpattern": {
             "fillmode": "overlay",
             "size": 10,
             "solidity": 0.2
            },
            "type": "scatter"
           }
          ],
          "scatter3d": [
           {
            "line": {
             "colorbar": {
              "outlinewidth": 0,
              "ticks": ""
             }
            },
            "marker": {
             "colorbar": {
              "outlinewidth": 0,
              "ticks": ""
             }
            },
            "type": "scatter3d"
           }
          ],
          "scattercarpet": [
           {
            "marker": {
             "colorbar": {
              "outlinewidth": 0,
              "ticks": ""
             }
            },
            "type": "scattercarpet"
           }
          ],
          "scattergeo": [
           {
            "marker": {
             "colorbar": {
              "outlinewidth": 0,
              "ticks": ""
             }
            },
            "type": "scattergeo"
           }
          ],
          "scattergl": [
           {
            "marker": {
             "colorbar": {
              "outlinewidth": 0,
              "ticks": ""
             }
            },
            "type": "scattergl"
           }
          ],
          "scattermapbox": [
           {
            "marker": {
             "colorbar": {
              "outlinewidth": 0,
              "ticks": ""
             }
            },
            "type": "scattermapbox"
           }
          ],
          "scatterpolar": [
           {
            "marker": {
             "colorbar": {
              "outlinewidth": 0,
              "ticks": ""
             }
            },
            "type": "scatterpolar"
           }
          ],
          "scatterpolargl": [
           {
            "marker": {
             "colorbar": {
              "outlinewidth": 0,
              "ticks": ""
             }
            },
            "type": "scatterpolargl"
           }
          ],
          "scatterternary": [
           {
            "marker": {
             "colorbar": {
              "outlinewidth": 0,
              "ticks": ""
             }
            },
            "type": "scatterternary"
           }
          ],
          "surface": [
           {
            "colorbar": {
             "outlinewidth": 0,
             "ticks": ""
            },
            "colorscale": [
             [
              0,
              "#0d0887"
             ],
             [
              0.1111111111111111,
              "#46039f"
             ],
             [
              0.2222222222222222,
              "#7201a8"
             ],
             [
              0.3333333333333333,
              "#9c179e"
             ],
             [
              0.4444444444444444,
              "#bd3786"
             ],
             [
              0.5555555555555556,
              "#d8576b"
             ],
             [
              0.6666666666666666,
              "#ed7953"
             ],
             [
              0.7777777777777778,
              "#fb9f3a"
             ],
             [
              0.8888888888888888,
              "#fdca26"
             ],
             [
              1,
              "#f0f921"
             ]
            ],
            "type": "surface"
           }
          ],
          "table": [
           {
            "cells": {
             "fill": {
              "color": "#EBF0F8"
             },
             "line": {
              "color": "white"
             }
            },
            "header": {
             "fill": {
              "color": "#C8D4E3"
             },
             "line": {
              "color": "white"
             }
            },
            "type": "table"
           }
          ]
         },
         "layout": {
          "annotationdefaults": {
           "arrowcolor": "#2a3f5f",
           "arrowhead": 0,
           "arrowwidth": 1
          },
          "autotypenumbers": "strict",
          "coloraxis": {
           "colorbar": {
            "outlinewidth": 0,
            "ticks": ""
           }
          },
          "colorscale": {
           "diverging": [
            [
             0,
             "#8e0152"
            ],
            [
             0.1,
             "#c51b7d"
            ],
            [
             0.2,
             "#de77ae"
            ],
            [
             0.3,
             "#f1b6da"
            ],
            [
             0.4,
             "#fde0ef"
            ],
            [
             0.5,
             "#f7f7f7"
            ],
            [
             0.6,
             "#e6f5d0"
            ],
            [
             0.7,
             "#b8e186"
            ],
            [
             0.8,
             "#7fbc41"
            ],
            [
             0.9,
             "#4d9221"
            ],
            [
             1,
             "#276419"
            ]
           ],
           "sequential": [
            [
             0,
             "#0d0887"
            ],
            [
             0.1111111111111111,
             "#46039f"
            ],
            [
             0.2222222222222222,
             "#7201a8"
            ],
            [
             0.3333333333333333,
             "#9c179e"
            ],
            [
             0.4444444444444444,
             "#bd3786"
            ],
            [
             0.5555555555555556,
             "#d8576b"
            ],
            [
             0.6666666666666666,
             "#ed7953"
            ],
            [
             0.7777777777777778,
             "#fb9f3a"
            ],
            [
             0.8888888888888888,
             "#fdca26"
            ],
            [
             1,
             "#f0f921"
            ]
           ],
           "sequentialminus": [
            [
             0,
             "#0d0887"
            ],
            [
             0.1111111111111111,
             "#46039f"
            ],
            [
             0.2222222222222222,
             "#7201a8"
            ],
            [
             0.3333333333333333,
             "#9c179e"
            ],
            [
             0.4444444444444444,
             "#bd3786"
            ],
            [
             0.5555555555555556,
             "#d8576b"
            ],
            [
             0.6666666666666666,
             "#ed7953"
            ],
            [
             0.7777777777777778,
             "#fb9f3a"
            ],
            [
             0.8888888888888888,
             "#fdca26"
            ],
            [
             1,
             "#f0f921"
            ]
           ]
          },
          "colorway": [
           "#636efa",
           "#EF553B",
           "#00cc96",
           "#ab63fa",
           "#FFA15A",
           "#19d3f3",
           "#FF6692",
           "#B6E880",
           "#FF97FF",
           "#FECB52"
          ],
          "font": {
           "color": "#2a3f5f"
          },
          "geo": {
           "bgcolor": "white",
           "lakecolor": "white",
           "landcolor": "#E5ECF6",
           "showlakes": true,
           "showland": true,
           "subunitcolor": "white"
          },
          "hoverlabel": {
           "align": "left"
          },
          "hovermode": "closest",
          "mapbox": {
           "style": "light"
          },
          "paper_bgcolor": "white",
          "plot_bgcolor": "#E5ECF6",
          "polar": {
           "angularaxis": {
            "gridcolor": "white",
            "linecolor": "white",
            "ticks": ""
           },
           "bgcolor": "#E5ECF6",
           "radialaxis": {
            "gridcolor": "white",
            "linecolor": "white",
            "ticks": ""
           }
          },
          "scene": {
           "xaxis": {
            "backgroundcolor": "#E5ECF6",
            "gridcolor": "white",
            "gridwidth": 2,
            "linecolor": "white",
            "showbackground": true,
            "ticks": "",
            "zerolinecolor": "white"
           },
           "yaxis": {
            "backgroundcolor": "#E5ECF6",
            "gridcolor": "white",
            "gridwidth": 2,
            "linecolor": "white",
            "showbackground": true,
            "ticks": "",
            "zerolinecolor": "white"
           },
           "zaxis": {
            "backgroundcolor": "#E5ECF6",
            "gridcolor": "white",
            "gridwidth": 2,
            "linecolor": "white",
            "showbackground": true,
            "ticks": "",
            "zerolinecolor": "white"
           }
          },
          "shapedefaults": {
           "line": {
            "color": "#2a3f5f"
           }
          },
          "ternary": {
           "aaxis": {
            "gridcolor": "white",
            "linecolor": "white",
            "ticks": ""
           },
           "baxis": {
            "gridcolor": "white",
            "linecolor": "white",
            "ticks": ""
           },
           "bgcolor": "#E5ECF6",
           "caxis": {
            "gridcolor": "white",
            "linecolor": "white",
            "ticks": ""
           }
          },
          "title": {
           "x": 0.05
          },
          "xaxis": {
           "automargin": true,
           "gridcolor": "white",
           "linecolor": "white",
           "ticks": "",
           "title": {
            "standoff": 15
           },
           "zerolinecolor": "white",
           "zerolinewidth": 2
          },
          "yaxis": {
           "automargin": true,
           "gridcolor": "white",
           "linecolor": "white",
           "ticks": "",
           "title": {
            "standoff": 15
           },
           "zerolinecolor": "white",
           "zerolinewidth": 2
          }
         }
        },
        "xaxis": {
         "showgrid": false,
         "zerolinecolor": "Grey",
         "zerolinewidth": 2
        },
        "yaxis": {
         "scaleanchor": "x",
         "scaleratio": 1,
         "showgrid": false,
         "zerolinecolor": "Grey",
         "zerolinewidth": 2
        }
       }
      }
     },
     "metadata": {},
     "output_type": "display_data"
    }
   ],
   "source": [
    "col_above_x = [-DX_above.value*1000/2, DX_above.value*1000/2, DX_above.value*1000/2, -DX_above.value*1000/2]\n",
    "col_above_y = [DY_above.value*1000/2, DY_above.value*1000/2, -DY_above.value*1000/2, -DY_above.value*1000/2]\n",
    "\n",
    "\n",
    "col_below_x = [-DX_below.value*1000/2, DX_below.value*1000/2, DX_below.value*1000/2, -DX_below.value*1000/2]\n",
    "col_below_y = [DY_below.value*1000/2, DY_below.value*1000/2, -DY_below.value*1000/2, -DY_below.value*1000/2]\n",
    "\n",
    "fig = go.Figure()\n",
    "\n",
    "fig.add_trace(go.Scatter(x=col_above_x, y=col_above_y, fill='toself', name=\"Column above\"))\n",
    "fig.add_trace(go.Scatter(x=col_below_x, y=col_below_y, fill='toself', name=\"Column below\"))\n",
    "fig.update_xaxes(showgrid=False, zerolinewidth=2, zerolinecolor='Grey')\n",
    "fig.update_yaxes(scaleanchor=\"x\", scaleratio=1, showgrid=False, zerolinewidth=2, zerolinecolor='Grey')\n",
    "fig.show()"
   ]
  },
  {
   "cell_type": "markdown",
   "metadata": {},
   "source": [
    "### Effective concrete strength"
   ]
  },
  {
   "cell_type": "code",
   "execution_count": 7,
   "metadata": {},
   "outputs": [],
   "source": [
    "Dc_min = min(DX_above, DY_above, DX_below, DY_below)\n",
    "\n",
    "def calculate_fce(restraint, ratio, fc_joint, fc_above, fc_below):\n",
    "    if restraint == \"INTERIOR COLUMN\":\n",
    "        f_ce = min( (1.33 - 0.33) / ratio * fc_joint + (0.25 / ratio) * fc_below, fc_above)\n",
    "\n",
    "    elif restraint == \"RESTRAINED ON TWO OPPOSING SIDES\":\n",
    "        f_ce = min( (1.1 - 0.3) / ratio * fc_joint + (0.2 / ratio) * fc_below, fc_above)\n",
    "\n",
    "    elif restraint == \"RESTRAINED ON TWO ADJACENT SIDES\":\n",
    "        f_ce = min( 1.33 * fc_joint, fc_above, fc_below)"
   ]
  },
  {
   "cell_type": "code",
   "execution_count": 14,
   "metadata": {},
   "outputs": [
    {
     "data": {
      "text/latex": [
       "\\[\n",
       "\\begin{aligned}\n",
       "\\mathrm{Restraint} &= \\mathrm{INTERIOR COLUMN} \\; \n",
       "\\\\[10pt]\n",
       "\\mathrm{Dc}_{min} &= \\operatorname{min} { \\left( \\mathrm{DX}_{above} ,\\  \\mathrm{DY}_{above} ,\\  \\mathrm{DX}_{below} ,\\  \\mathrm{DY}_{below} \\right) } \\\\&= \\operatorname{min} { \\left( 350.000\\ \\mathrm{mm} ,\\  1.000\\ \\mathrm{m} ,\\  1.000\\ \\mathrm{m} ,\\  350.000\\ \\mathrm{mm} \\right) } \\\\&= 350.000\\ \\mathrm{mm} \\; \\;\\textrm{(Smallest column cross section)}\\\\[10pt]\n",
       "\\\\[10pt]\n",
       "&\\text{Since, } \\mathrm{Restraint} \\rightarrow \\left( \\textrm{INTERIOR COLUMN} \\right) :   \\\\[10pt]\n",
       "\\\\[10pt]\n",
       "f_{ce} &= \\operatorname{min} { \\left( \\frac{ 1.33 - 0.33 }{ \\frac{ h }{ \\mathrm{Dc}_{min} } } \\cdot \\mathrm{fc}_{joint} + \\left( \\frac{ 0.25 }{ \\frac{ h }{ \\mathrm{Dc}_{min} } } \\right) \\cdot \\mathrm{fc}_{below} ,\\  \\mathrm{fc}_{above} \\right) } \\\\&= \\operatorname{min} { \\left( \\frac{ 1.33 - 0.33 }{ \\frac{ 350.000\\ \\mathrm{mm} }{ 350.000\\ \\mathrm{mm} } } \\cdot 40.000\\ \\mathrm{MPa} + \\left( \\frac{ 0.25 }{ \\frac{ 350.000\\ \\mathrm{mm} }{ 350.000\\ \\mathrm{mm} } } \\right) \\cdot 50.000\\ \\mathrm{MPa} ,\\  50.000\\ \\mathrm{MPa} \\right) } \\\\&= 50.000\\ \\mathrm{MPa}  \\\\[10pt]\n",
       "\\\\[10pt]\n",
       "f_{ce} &= \\operatorname{min} { \\left( \\frac{ 1.1 - 0.3 }{ \\frac{ h }{ \\mathrm{Dc}_{min} } } \\cdot \\mathrm{fc}_{joint} + \\left( \\frac{ 0.2 }{ h_{Dc} } \\right) \\cdot \\mathrm{fc}_{below} ,\\  \\mathrm{fc}_{above} \\right) } \\\\&= \\operatorname{min} { \\left( \\frac{ 1.1 - 0.3 }{ \\frac{ 350.000\\ \\mathrm{mm} }{ 350.000\\ \\mathrm{mm} } } \\cdot 40.000\\ \\mathrm{MPa} + \\left( \\frac{ 0.2 }{ h_{Dc} } \\right) \\cdot 50.000\\ \\mathrm{MPa} ,\\  50.000\\ \\mathrm{MPa} \\right) } \\\\&= 50.000\\ \\mathrm{MPa}  \\\\[10pt]\n",
       "\\\\[10pt]\n",
       "f_{ce} &= \\operatorname{min} { \\left( 1.33 \\cdot \\mathrm{fc}_{joint} ,\\  \\mathrm{fc}_{above} \\right) }  = \\operatorname{min} { \\left( 1.33 \\cdot 40.000\\ \\mathrm{MPa} ,\\  50.000\\ \\mathrm{MPa} \\right) } &= 50.000\\ \\mathrm{MPa}  \n",
       "\\\\[10pt]\n",
       "f_{ce} &= 50.000\\ \\mathrm{MPa} \\; \\;\\textrm{(Effective compressive strength of joint)}\n",
       "\\end{aligned}\n",
       "\\]"
      ],
      "text/plain": [
       "<IPython.core.display.Latex object>"
      ]
     },
     "metadata": {},
     "output_type": "display_data"
    }
   ],
   "source": [
    "%%render\n",
    "Restraint = \"INTERIOR COLUMN\"\n",
    "Dc_min = min(DX_above, DY_above, DX_below, DY_below) # Smallest column cross section\n",
    "# h/Dc_min limited to minimum 0.33 (Clause 10.8 i and ii)\n",
    "\n",
    "if Restraint == \"INTERIOR COLUMN\":\n",
    "    f_ce = min( (1.33 - 0.33) / (h / Dc_min) * fc_joint + (0.25 / (h / Dc_min)) * fc_below, fc_above)\n",
    "\n",
    "elif Restraint == \"RESTRAINED ON TWO OPPOSING SIDES\":\n",
    "    f_ce = min( (1.1 - 0.3) / (h / Dc_min) * fc_joint + (0.2 / h_Dc) * fc_below, fc_above)\n",
    "\n",
    "elif Restraint == \"RESTRAINED ON TWO ADJACENT SIDES\":\n",
    "    f_ce = min( 1.33 * fc_joint, fc_above)\n",
    "\n",
    "f_ce # Effective compressive strength of joint"
   ]
  },
  {
   "cell_type": "markdown",
   "metadata": {},
   "source": [
    "### Bearing check"
   ]
  },
  {
   "cell_type": "code",
   "execution_count": 15,
   "metadata": {},
   "outputs": [
    {
     "data": {
      "text/latex": [
       "\\[\n",
       "\\begin{aligned}\n",
       "\\phi_{bearing} &= 0.600 \\; \n",
       "\\\\[10pt]\n",
       "A_{1} &= \\operatorname{min} { \\left( \\mathrm{DX}_{above} ,\\  \\mathrm{DX}_{below} \\right) } \\cdot \\operatorname{min} { \\left( \\mathrm{DY}_{above} ,\\  \\mathrm{DX}_{below} \\right) } \\\\&= \\operatorname{min} { \\left( 350.000\\ \\mathrm{mm} ,\\  1.000\\ \\mathrm{m} \\right) } \\cdot \\operatorname{min} { \\left( 1.000\\ \\mathrm{m} ,\\  1.000\\ \\mathrm{m} \\right) } \\\\&= 350000.000\\ \\mathrm{mm}^{2} \\; \\;\\textrm{(Bearing area)}\\\\[10pt]\n",
       "\\\\[10pt]\n",
       "A_{2} &= \\mathrm{DX}_{below} \\cdot \\mathrm{DY}_{below}  = 1.000\\ \\mathrm{m} \\cdot 350.000\\ \\mathrm{mm} &= 350000.000\\ \\mathrm{mm}^{2} \\; \\;\\textrm{(Area of column below)}\n",
       "\\\\[10pt]\n",
       "f_{bs1} &= \\phi_{bearing} \\cdot 0.9 \\cdot f_{ce} \\cdot \\mathrm{math.sqrt} { \\left( \\frac{ A_{2} }{ A_{1} } \\right) }  = 0.600 \\cdot 0.9 \\cdot 50.000\\ \\mathrm{MPa} \\cdot math.sqrt { \\left( \\frac{ 350000.000\\ \\mathrm{mm}^{2} }{ 350000.000\\ \\mathrm{mm}^{2} } \\right) } &= 27.000\\ \\mathrm{MPa}  \n",
       "\\\\[10pt]\n",
       "f_{bs2} &= \\phi_{bearing} \\cdot 1.8 \\cdot f_{ce}  = 0.600 \\cdot 1.8 \\cdot 50.000\\ \\mathrm{MPa} &= 54.000\\ \\mathrm{MPa}  \n",
       "\\\\[10pt]\n",
       "f_{bs} &= \\operatorname{min} { \\left( f_{bs1} ,\\  f_{bs2} \\right) }  = \\operatorname{min} { \\left( 27.000\\ \\mathrm{MPa} ,\\  54.000\\ \\mathrm{MPa} \\right) } &= 27.000\\ \\mathrm{MPa} \\; \\;\\textrm{(Design bearing stress)}\n",
       "\\end{aligned}\n",
       "\\]"
      ],
      "text/plain": [
       "<IPython.core.display.Latex object>"
      ]
     },
     "metadata": {},
     "output_type": "display_data"
    }
   ],
   "source": [
    "%%render\n",
    "\n",
    "phi_bearing = 0.6\n",
    "A_1 = min(DX_above, DX_below) * min(DY_above, DX_below) # Bearing area\n",
    "A_2 = DX_below * DY_below # Area of column below\n",
    "\n",
    "f_bs1 = phi_bearing * 0.9 * f_ce * math.sqrt(A_2 / A_1)\n",
    "f_bs2 = phi_bearing * 1.8 * f_ce\n",
    "\n",
    "f_bs = min(f_bs1, f_bs2) # Design bearing stress"
   ]
  },
  {
   "cell_type": "markdown",
   "metadata": {},
   "source": [
    "### Maximum transition capacity"
   ]
  },
  {
   "cell_type": "code",
   "execution_count": 16,
   "metadata": {},
   "outputs": [
    {
     "data": {
      "text/latex": [
       "\\[\n",
       "\\begin{aligned}\n",
       "\\phi_{N_{s}} &= f_{bs} \\cdot \\frac{ \\operatorname{min} { \\left( A_{1} ,\\  A_{2} \\right) } }{ 1000 }  = 27.000\\ \\mathrm{MPa} \\cdot \\frac{ \\operatorname{min} { \\left( 350000.000\\ \\mathrm{mm}^{2} ,\\  350000.000\\ \\mathrm{mm}^{2} \\right) } }{ 1000 } &= 9.450\\ \\mathrm{kN} \\; \\;\\textrm{(Maximum transition capacity)}\n",
       "\\end{aligned}\n",
       "\\]"
      ],
      "text/plain": [
       "<IPython.core.display.Latex object>"
      ]
     },
     "metadata": {},
     "output_type": "display_data"
    }
   ],
   "source": [
    "%%render\n",
    "phi_N_s =  f_bs * min(A_1, A_2) / 1000 # Maximum transition capacity"
   ]
  },
  {
   "cell_type": "code",
   "execution_count": 17,
   "metadata": {},
   "outputs": [],
   "source": [
    "if phi_N_s >= N_ult:\n",
    "    result = \"Sufficient bearing capacity\"\n",
    "else:\n",
    "    result = \"Insufficient bearing capacity\""
   ]
  },
  {
   "cell_type": "code",
   "execution_count": 18,
   "metadata": {},
   "outputs": [
    {
     "data": {
      "text/latex": [
       "\\[\n",
       "\\begin{aligned}\n",
       "N_{ult} &= 7.473\\ \\mathrm{MN} \\; \n",
       "\\\\[10pt]\n",
       "\\phi_{N_{s}} &= 9.450\\ \\mathrm{kN} \\; \n",
       "\\\\[10pt]\n",
       "\\mathrm{result} &= \\mathrm{Insufficient bearing capacity} \\; \n",
       "\\end{aligned}\n",
       "\\]"
      ],
      "text/plain": [
       "<IPython.core.display.Latex object>"
      ]
     },
     "metadata": {},
     "output_type": "display_data"
    }
   ],
   "source": [
    "%%render\n",
    "N_ult\n",
    "phi_N_s\n",
    "result"
   ]
  },
  {
   "cell_type": "markdown",
   "metadata": {},
   "source": [
    "### Additional longitudinal reinforcement through joint"
   ]
  },
  {
   "cell_type": "code",
   "execution_count": 19,
   "metadata": {},
   "outputs": [
    {
     "data": {
      "text/latex": [
       "\\[\n",
       "\\begin{aligned}\n",
       "\\alpha_{1} &= 0.850 \\; \n",
       "\\\\[10pt]\n",
       "\\phi_{N_{u}} &= \\phi_{bearing} \\cdot \\left( A_{2} \\cdot \\alpha_{1} \\cdot f_{ce} \\right)  = 0.600 \\cdot \\left( 350000.000\\ \\mathrm{mm}^{2} \\cdot 0.850 \\cdot 50.000\\ \\mathrm{MPa} \\right) &= 8.925\\ \\mathrm{MN} \\; \\;\\textrm{(Concrete squash load capacity)}\n",
       "\\end{aligned}\n",
       "\\]"
      ],
      "text/plain": [
       "<IPython.core.display.Latex object>"
      ]
     },
     "metadata": {},
     "output_type": "display_data"
    }
   ],
   "source": [
    "%%render\n",
    "alpha_1 = 0.85\n",
    "phi_N_u = phi_bearing * (A_2 * alpha_1 * f_ce) # Concrete squash load capacity\n"
   ]
  },
  {
   "cell_type": "code",
   "execution_count": 20,
   "metadata": {},
   "outputs": [
    {
     "data": {
      "text/latex": [
       "\\[\n",
       "\\begin{aligned}\n",
       "f_{sy} &= 500 \\cdot \\mathrm{MPa}  = 500 \\cdot MPa &= 500.000\\ \\mathrm{MPa}  \n",
       "\\\\[10pt]\n",
       "\\phi_{N_{squash}} &= \\operatorname{max} { \\left( 0 ,\\  N_{ult} - \\phi_{N_{u}} \\right) }  = \\operatorname{max} { \\left( 0 ,\\  7.473\\ \\mathrm{MN} - 8.925\\ \\mathrm{MN} \\right) } &= 0  \n",
       "\\\\[10pt]\n",
       "A_{s} &= \\phi_{N_{squash}} \\cdot \\frac{ 1000 }{ f_{sy} - \\alpha_{1} \\cdot f_{ce} }  = 0 \\cdot \\frac{ 1000 }{ 500.000\\ \\mathrm{MPa} - 0.850 \\cdot 50.000\\ \\mathrm{MPa} } &= 0.000\\ \\mathrm{Pa}^{-1} \\; \\;\\textrm{(Longitudinal reinforcement)}\n",
       "\\end{aligned}\n",
       "\\]"
      ],
      "text/plain": [
       "<IPython.core.display.Latex object>"
      ]
     },
     "metadata": {},
     "output_type": "display_data"
    }
   ],
   "source": [
    "%%render\n",
    "f_sy = 500 * MPa\n",
    "phi_N_squash = max(0, N_ult - phi_N_u)\n",
    "A_s = phi_N_squash * 1000 / (f_sy - alpha_1 * f_ce) # Longitudinal reinforcement"
   ]
  },
  {
   "cell_type": "code",
   "execution_count": null,
   "metadata": {},
   "outputs": [],
   "source": []
  }
 ],
 "metadata": {
  "kernelspec": {
   "display_name": "Python 3",
   "language": "python",
   "name": "python3"
  },
  "language_info": {
   "codemirror_mode": {
    "name": "ipython",
    "version": 3
   },
   "file_extension": ".py",
   "mimetype": "text/x-python",
   "name": "python",
   "nbconvert_exporter": "python",
   "pygments_lexer": "ipython3",
   "version": "3.11.7"
  }
 },
 "nbformat": 4,
 "nbformat_minor": 2
}
